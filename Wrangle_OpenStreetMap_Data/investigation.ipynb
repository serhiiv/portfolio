{
 "cells": [
  {
   "cell_type": "markdown",
   "metadata": {},
   "source": [
    "Server Information:\n",
    "- the version of the notebook server is 4.3.1 and is running on: Python 3.6.0 |Anaconda 4.3.0 (64-bit)\n",
    "- current Kernel Information: Python 3.6.0 |Anaconda 4.3.0 (64-bit)| IPython 5.1.0\n",
    "- MongoDB shell version: 2.6.10"
   ]
  },
  {
   "cell_type": "markdown",
   "metadata": {},
   "source": [
    "###### report\n",
    "\n",
    "# DATA WRANGLING WITH MONGODB\n",
    "\n",
    "Map Area: Khmelnytskyi raion (a district) of the Khmelnytskyi Oblast in western Ukraine.\n",
    "\n",
    "- https://www.openstreetmap.org/relation/1739099\n",
    "- http://overpass-api.de/api/map?bbox=26.5306,49.2906,27.3257,49.6103 \n",
    "- https://en.wikipedia.org/wiki/Khmelnytskyi_Raion\n",
    "\n",
    "I live in this place, and I want to play with requests to this database.\n",
    "I want to contribute to improving the map of my hometown at OpenStreetMap.org."
   ]
  },
  {
   "cell_type": "markdown",
   "metadata": {},
   "source": [
    "## Preliminary analysis\n",
    "\n",
    "For the preliminary analysis of the data, I will create a dictionary that includes all records of osm-file where the type of elements is the tag. The key of a tag will be the key of the dictionary, and the value will be a set that will include all the values of tags.\n",
    "\n",
    "###### background"
   ]
  },
  {
   "cell_type": "code",
   "execution_count": 162,
   "metadata": {
    "collapsed": false
   },
   "outputs": [],
   "source": [
    "import xml.etree.cElementTree as ET\n",
    "from pymongo import MongoClient\n",
    "from collections import defaultdict\n",
    "import json\n",
    "import codecs\n",
    "import pprint\n",
    "\n",
    "file_input = 'khmelnytskyi_region.osm'\n",
    "file_output = 'khmelnytskyi_region.json'"
   ]
  },
  {
   "cell_type": "code",
   "execution_count": 163,
   "metadata": {
    "collapsed": true
   },
   "outputs": [],
   "source": [
    "def accumulate_tags(filename):\n",
    "    # accumulates content of all tags in the dictionary.\n",
    "    content = defaultdict(set)\n",
    "    for _, element in ET.iterparse(filename):\n",
    "        if element.tag == 'tag':\n",
    "            content[element.attrib['k']].add(element.attrib['v'])\n",
    "    return content\n",
    "\n",
    "def check_out(keys, verified_keys):\n",
    "    # shows the result of check\n",
    "    print(list(verified_keys))\n",
    "    keys -= verified_keys\n",
    "    print('\\nverified keys:', len(verified_keys))\n",
    "    print('the remainder of keys:', len(keys))"
   ]
  },
  {
   "cell_type": "code",
   "execution_count": 164,
   "metadata": {
    "collapsed": true
   },
   "outputs": [],
   "source": [
    "content = accumulate_tags(file_input)"
   ]
  },
  {
   "cell_type": "code",
   "execution_count": 165,
   "metadata": {
    "collapsed": false
   },
   "outputs": [
    {
     "data": {
      "text/plain": [
       "442"
      ]
     },
     "execution_count": 165,
     "metadata": {},
     "output_type": "execute_result"
    }
   ],
   "source": [
    "# set of tags names\n",
    "keys = set(content.keys())\n",
    "len(content)"
   ]
  },
  {
   "cell_type": "markdown",
   "metadata": {},
   "source": [
    "###### report\n",
    "\n",
    "The dictionary has 442 entries that I'm going to explore.\n",
    "\n",
    "###### background"
   ]
  },
  {
   "cell_type": "code",
   "execution_count": 166,
   "metadata": {
    "collapsed": false
   },
   "outputs": [
    {
     "name": "stdout",
     "output_type": "stream",
     "text": [
      "['passenger_lines', 'koatuu', 'start_date', 'tracks', 'capital', 'population', 'level', 'frequency', 'number', 'ISO3166-1:numeric', 'mtb:scale', 'cables', 'ele', 'maxspeed', 'rooms', 'esr:code', 'admin_level', 'layer', 'capacity', 'express:code', 'circuits', 'lanes', 'platforms', 'building:levels', 'whc:inscription_date', 'gauge', 'esr:user', 'stars', 'heritage', 'height']\n",
      "\n",
      "verified keys: 30\n",
      "the remainder of keys: 412\n"
     ]
    }
   ],
   "source": [
    "# int check\n",
    "verified_keys = set()\n",
    "for key in keys:\n",
    "    verified_keys.add(key)\n",
    "    for item in content[key]:\n",
    "        try:\n",
    "            int(item)\n",
    "        except:\n",
    "            verified_keys.remove(key)\n",
    "            break\n",
    "\n",
    "check_out(keys, verified_keys)"
   ]
  },
  {
   "cell_type": "markdown",
   "metadata": {},
   "source": [
    "###### report\n",
    "\n",
    "- 30 tags converted into integers\n",
    "\n",
    "###### background"
   ]
  },
  {
   "cell_type": "code",
   "execution_count": 167,
   "metadata": {
    "collapsed": false
   },
   "outputs": [
    {
     "name": "stdout",
     "output_type": "stream",
     "text": [
      "['distance', 'width']\n",
      "\n",
      "verified keys: 2\n",
      "the remainder of keys: 410\n"
     ]
    }
   ],
   "source": [
    "# float check\n",
    "verified_keys = set()\n",
    "for key in keys:\n",
    "    verified_keys.add(key)\n",
    "    for item in content[key]:\n",
    "        try:\n",
    "            float(item)\n",
    "        except:\n",
    "            verified_keys.remove(key)\n",
    "            break\n",
    "\n",
    "check_out(keys, verified_keys)"
   ]
  },
  {
   "cell_type": "markdown",
   "metadata": {},
   "source": [
    "###### report\n",
    "\n",
    "- Two tags converted into float numbers\n",
    "\n",
    "###### background"
   ]
  },
  {
   "cell_type": "code",
   "execution_count": 168,
   "metadata": {
    "collapsed": false
   },
   "outputs": [
    {
     "name": "stdout",
     "output_type": "stream",
     "text": [
      "['name:su', 'name:mi', 'name:ce', 'name:am', 'name:hr', 'name:yi', 'name:ug', 'name:eu', 'name:km', 'name:dv', 'name:ar', 'name:tg', 'name:lt', 'name:tk', 'name:tl', 'name:nn', 'name:et', 'name:mk', 'name:ne', 'name:he', 'name:is', 'name:fa', 'name:ee', 'name:ca', 'name:bg', 'name:cv', 'name:ss', 'name:af', 'name:ig', 'name:kk', 'name:ro', 'name:or', 'name:jv', 'name:gl', 'name:sm', 'name:mr', 'name:rm', 'name:kv', 'name:sh', 'name:io', 'name:la', 'name:pt', 'name:pl', 'name:kg', 'name:sl', 'name:cs', 'name:qu', 'name:oc', 'name:gv', 'name:ps', 'name:zh', 'name:bi', 'name:ka', 'name:na', 'name:ru', 'name:kw', 'name:cy', 'name:mt', 'name:yo', 'name:ko', 'name:ky', 'name:ku', 'name:wo', 'name:ab', 'name:ia', 'name:da', 'name:cu', 'name:tr', 'name:kn', 'name:ba', 'name:be', 'name:kl', 'name:fr', 'name:uz', 'name:sn', 'name:fy', 'name:es', 'name:lv', 'name:my', 'name:ml', 'name:sk', 'name:rw', 'name:it', 'name:br', 'name:lb', 'name:li', 'name:id', 'name:bo', 'name:gn', 'name:ms', 'name:bn', 'name:no', 'name:se', 'name:el', 'name:so', 'name:te', 'name:th', 'name:fo', 'name:sq', 'name:ja', 'name:ur', 'name:mn', 'name:hu', 'name:vo', 'name:eo', 'name:fi', 'name:pa', 'name:sc', 'name:ln', 'name:hi', 'name:tt', 'name:nl', 'name:ts', 'name:nv', 'name:sv', 'name:ga', 'name:an', 'name:ta', 'name:de', 'name:gd', 'name:mg', 'name:wa', 'name:sr', 'name:tw', 'name:ie', 'name:ht', 'name:sw', 'name:vi', 'name:gu', 'name:az', 'name:hy', 'name:bs', 'name:os']\n",
      "\n",
      "verified keys: 133\n",
      "the remainder of keys: 277\n"
     ]
    }
   ],
   "source": [
    "# languages check\n",
    "verified_keys = set()\n",
    "for key in keys:\n",
    "    if key.startswith('name:') and len(key) == 7 and key not in ('name:uk', 'name:en'):\n",
    "        verified_keys.add(key)\n",
    "        \n",
    "check_out(keys, verified_keys)"
   ]
  },
  {
   "cell_type": "markdown",
   "metadata": {
    "collapsed": false
   },
   "source": [
    "###### report\n",
    "\n",
    "- 133 tags rejected because they are names of objects in languages that I don't know.\n",
    "\n",
    "###### background"
   ]
  },
  {
   "cell_type": "code",
   "execution_count": 169,
   "metadata": {
    "collapsed": false
   },
   "outputs": [
    {
     "name": "stdout",
     "output_type": "stream",
     "text": [
      "['name:mdf', 'maxstay', 'branch:ru', 'name:pcd', 'timezone', 'nat_ref', 'name:sah', 'name:bar', 'embankment', 'atm', 'name:nds-nl', 'psv', 'name:cdo', 'contact:email', 'location', 'toilets:disposal', 'addr:country', 'ISO3166-2', 'recycling:paper', 'clothes', 'name:nov', 'name:lez', 'generator:output:hot_water', 'name:haw', 'name:ceb', 'name:zh-classical', 'name:chy', 'name:simple', 'education', 'name:tum', 'building:parts', 'alt_name:de', 'name:udm', 'waste', 'sac_scale', 'unisex', 'heritage:operator', 'name:nrm', 'name:ext', 'name:lmo', 'name:dsb', 'lawyer', 'boundary', 'fuel:octane_91', 'noname', 'name:hsb', 'name:ilo', 'name:fiu-vro', 'name:pap', 'section', 'name:gag', 'name:vep', 'name:jbo', 'name:gan', 'contact:phone', 'bus', 'name:mzn', 'destination', 'traffic_calming', 'name:mhr', 'name:tpi', 'ISO3166-1', 'name:chr', 'name:frp', 'name:ast', 'delivery', 'currency:USD', 'alt_name:eo', 'name:lad', 'traffic_sign', 'ISO3166-1:alpha3', 'name:krc', 'old_name:vi', 'traffic_signals', 'name:cbk-zam', 'bridge', 'name:pms', 'currency:EUR', 'goods', 'name:myv', 'name:xmf', 'rating', 'design', 'ISO3166-1:alpha2', 'name:tzl', 'iata', 'leaf_type', 'smoothness', 'takeaway', 'is_in:continent', 'name:kaa', 'name:ang', 'name:pnt', 'name:frr', 'name:hak', 'ref:en', 'recycling:glass', 'alt_name:vi', 'name:arc', 'park_ride', 'alt_name:pl', 'name:roa-tara', 'name:als', 'name:nah', 'whc:criteria', 'name:bpy', 'snowmobile', 'trail_visibility', 'name:bcl', 'trolley_wire', 'name:nap', 'name:arz', 'name:zea', 'name:kab', 'living_street', 'shop_1', 'name:scn', 'name:stq', 'name:xal', 'fuel:octane_98', 'icao', 'government', 'name:ckb', 'official_name', 'hgv', 'area:highway', 'name:kbd', 'building:part', 'name:pam', 'ref:ru', 'name:koi', 'name:mwl', 'name:vec', 'alt_name:en', 'name:ltg', 'building:use', 'name:nds', 'fuel:diesel', 'ski', 'name:pih', 'name:diq', 'reservoir_type', 'name:ace', 'name:lij', 'bench', 'name:bxr', 'name:rmy', 'name:vls', 'name:zh-yue', 'name:hif', 'currency:UAH', 'craft_1', 'disused', 'parking', 'recycling_type', 'int_ref', 'indoor', 'area', 'name:csb', 'intermittent', 'name:new', 'fuel:octane_95', 'name:bat-smg']\n",
      "\n",
      "verified keys: 163\n",
      "the remainder of keys: 114\n"
     ]
    }
   ],
   "source": [
    "# len == 1 check\n",
    "verified_keys = set()\n",
    "for key in keys:\n",
    "    if len(content[key]) == 1:\n",
    "        verified_keys.add(key)\n",
    "\n",
    "check_out(keys, verified_keys)"
   ]
  },
  {
   "cell_type": "markdown",
   "metadata": {},
   "source": [
    "###### report\n",
    "\n",
    "- 163 tags rejected because they have only one value.\n",
    "\n",
    "###### background"
   ]
  },
  {
   "cell_type": "markdown",
   "metadata": {},
   "source": [
    "Now, I compare remainder of tags with the description of the OSM-wiki. I uploaded the file **taginfo-wiki.db.bz2**(data from the tag and key pages of the OSM wiki) from the site [taginfo](https://taginfo.openstreetmap.org/download) and transformed him to a dictionary."
   ]
  },
  {
   "cell_type": "code",
   "execution_count": 170,
   "metadata": {
    "collapsed": false
   },
   "outputs": [],
   "source": [
    "# select\n",
    "import sqlite3\n",
    "conn = sqlite3.connect('taginfo-wiki.db')\n",
    "c = conn.cursor()\n",
    "taginfo_wiki = c.execute('''\n",
    "    SELECT DISTINCT key, value, description \n",
    "    FROM wikipages \n",
    "    WHERE lang=\"en\" \n",
    "    ORDER BY key, value;\n",
    "''')"
   ]
  },
  {
   "cell_type": "code",
   "execution_count": 171,
   "metadata": {
    "collapsed": false
   },
   "outputs": [],
   "source": [
    "# accumulates wiki tags in the dictionary\n",
    "wiki = dict()\n",
    "old_key = None\n",
    "for key, value, description in taginfo_wiki:\n",
    "    if old_key != key:\n",
    "        old_key = key\n",
    "        wiki[key] = dict()\n",
    "        wiki[key]['values'] = set()\n",
    "        wiki[key]['description'] = description\n",
    "    wiki[key]['values'].add(value)"
   ]
  },
  {
   "cell_type": "code",
   "execution_count": 172,
   "metadata": {
    "collapsed": false
   },
   "outputs": [
    {
     "name": "stdout",
     "output_type": "stream",
     "text": [
      "['sport', 'power', 'public_transport', 'entrance', 'aeroway', 'wood', 'bicycle', 'historic', 'tower:type', 'motorcycle', 'junction', 'oneway', 'waterway', 'natural', 'highway', 'railway', 'place', 'surface', 'route', 'shelter', 'tourism', 'tunnel', 'footway', 'man_made', 'religion', 'dispensing', 'building', 'foot', 'leisure', 'information', 'substation', 'wheelchair', 'lit']\n",
      "\n",
      "verified keys: 33\n",
      "the remainder of keys: 81\n"
     ]
    }
   ],
   "source": [
    "# tag versus OSM-wiki\n",
    "verified_keys = set()\n",
    "report = []\n",
    "for key in keys:\n",
    "    desc = None\n",
    "    if key in wiki.keys():\n",
    "        desc = wiki[key]['description']\n",
    "        if not content[key] - wiki[key]['values']:\n",
    "            verified_keys.add(key)\n",
    "            continue\n",
    "    report.append((len(content[key]), key, desc))\n",
    "\n",
    "check_out(keys, verified_keys)    "
   ]
  },
  {
   "cell_type": "markdown",
   "metadata": {},
   "source": [
    "###### report\n",
    "\n",
    "- 33 tags rejected because they have values that equal to values from osm-wiki and contains nothing superfluous.\n",
    "\n",
    "**81 tag left to handle manually**\n",
    "\n",
    "###### background"
   ]
  },
  {
   "cell_type": "code",
   "execution_count": 173,
   "metadata": {
    "collapsed": false
   },
   "outputs": [
    {
     "name": "stdout",
     "output_type": "stream",
     "text": [
      "[(1651, 'name', 'The primary tag used for naming an element.'),\n",
      " (685, 'addr:housenumber', None),\n",
      " (623, 'name:uk', None),\n",
      " (576, 'name:en', None),\n",
      " (179, 'phone', 'A telephone number associated with the object.'),\n",
      " (158,\n",
      "  'wikipedia',\n",
      "  \"Provides a link to Wikipedia's article about the feature.\"),\n",
      " (150, 'wikidata', 'The ID of the Wikidata item about the feature.'),\n",
      " (134, 'addr:street', None),\n",
      " (133,\n",
      "  'opening_hours',\n",
      "  'Describes when something is open or closed.  There is a specific standard '\n",
      "  'format for this data.'),\n",
      " (130, 'website', 'Specifying the link to the official website for a feature.'),\n",
      " (127, 'wikipedia:ru', None),\n",
      " (90,\n",
      "  'ref',\n",
      "  'Used for reference numbers or codes. Common for roads, highway exits, '\n",
      "  'routes, etc.'),\n",
      " (89, 'addr:postcode', None),\n",
      " (87,\n",
      "  'description',\n",
      "  'To provide additional information about the related element to the end map '\n",
      "  'user.'),\n",
      " (62, 'shop', 'A place selling retail products or services.'),\n",
      " (58, 'old_name', None),\n",
      " (52,\n",
      "  'amenity',\n",
      "  'For describing useful and important facilities for visitors and residents.'),\n",
      " (44, 'old_name:en', None),\n",
      " (43, 'old_name:uk', None),\n",
      " (43, 'old_name:ru', None),\n",
      " (35,\n",
      "  'operator',\n",
      "  'Сompany, corporation, person or any other entity who is directly in charge '\n",
      "  'of the current operation of a map object'),\n",
      " (35, 'email', 'An email address associated with the object'),\n",
      " (25, 'source:pkey', None),\n",
      " (23, 'landuse', 'For describing the primary use of areas of land.'),\n",
      " (12, 'type', 'Type of a relation'),\n",
      " (12, 'cuisine', 'For describing the type of food served at an eating place.'),\n",
      " (11,\n",
      "  'barrier',\n",
      "  'A barrier is a physical structure which blocks or impedes movement.'),\n",
      " (10,\n",
      "  'source',\n",
      "  'For indicating the source of all tags added to the OSM database.'),\n",
      " (7,\n",
      "  'voltage',\n",
      "  'For describing the voltage of power lines, cables and overhead wires.'),\n",
      " (7,\n",
      "  'service',\n",
      "  'Additional information about a service highway/railway/waterway, or about '\n",
      "  'services offered at a business'),\n",
      " (7, 'note', 'A note to yourself or to other mappers.'),\n",
      " (7, 'craft', 'A place producing or processing customized goods'),\n",
      " (7, 'addr:city', None),\n",
      " (6, 'restriction', None),\n",
      " (6, 'office', 'A place of business, similar to shops.'),\n",
      " (6, 'access', 'For describing the legal accessibility of a element.'),\n",
      " (5, 'tracktype', 'Provides a classification of tracks.'),\n",
      " (5,\n",
      "  'network',\n",
      "  'A system of routes (or bicycle rental stations) typically maintained or '\n",
      "  'designated by a single agency or organization, or for bicycle and walking '\n",
      "  'routes, an indication of the scope of the route.'),\n",
      " (5, 'loc_ref', None),\n",
      " (5, 'int_name', None),\n",
      " (5,\n",
      "  'crossing',\n",
      "  'Further refinement for nodes already tagged with highway=crossing or '\n",
      "  'railway=crossing'),\n",
      " (5,\n",
      "  'brand',\n",
      "  'the identity of a specific product, service, or business. Often trademarks'),\n",
      " (4, 'name:prefix', 'a name prefix'),\n",
      " (4, 'motor_vehicle', 'Access permission for motor vehicles'),\n",
      " (4, 'incline', 'Incline steepness.'),\n",
      " (4, 'designation', 'The official classification of a road or path'),\n",
      " (4, 'denomination', 'Defines the subspecies of a specific religion.'),\n",
      " (4, 'branch', None),\n",
      " (3, 'wetland', 'Type of wetland'),\n",
      " (3, 'water', 'Specification of a water body'),\n",
      " (3, 'usage', 'Describes the primary usage of this railway or pipepile'),\n",
      " (3,\n",
      "  'smoking',\n",
      "  'For marking applicable smoking rules. However, if a law mandates a given '\n",
      "  'smoking rule, that need not be mapped.'),\n",
      " (3, 'name:szl', None),\n",
      " (3, 'motorcar', 'Access permission for cars'),\n",
      " (2, 'url', 'Specifying an url related to a feature.'),\n",
      " (2, 'supervised', None),\n",
      " (2,\n",
      "  'sidewalk',\n",
      "  'Indicates the presence or absence of a sidewalk (pavement/footway).'),\n",
      " (2,\n",
      "  'service_times',\n",
      "  'generally used for the times of service of a given feature'),\n",
      " (2, 'ref:whc', 'UNESCO id of World heritage'),\n",
      " (2, 'phone_1', None),\n",
      " (2, 'old_name:pl', None),\n",
      " (2, 'name:zh-min-nan', None),\n",
      " (2, 'name:war', None),\n",
      " (2, 'name:sco', None),\n",
      " (2, 'name:rue', None),\n",
      " (2, 'name:pnb', None),\n",
      " (2, 'name:crh', None),\n",
      " (2, 'name:be-tarask', None),\n",
      " (2, 'local_ref', 'local reference/local platform number'),\n",
      " (2, 'internet_access:fee', None),\n",
      " (2,\n",
      "  'internet_access',\n",
      "  'Indicates if an object offers internet access. The access can be with given '\n",
      "  'computers or WLAN access. The only limitation is that the internet access '\n",
      "  'has to be public.'),\n",
      " (2, 'horse', 'Access permission for equestrians.'),\n",
      " (2, 'flag', None),\n",
      " (2,\n",
      "  'fee',\n",
      "  'Yes or no, to indicate if money is charged to use this facility.  See wiki '\n",
      "  'for other values.'),\n",
      " (2, 'emergency', 'This tag describe various emergency services'),\n",
      " (2,\n",
      "  'electrified',\n",
      "  'Indicates infrastructure to supply vehicles with electricity, on rail '\n",
      "  'tracks or highways.'),\n",
      " (2,\n",
      "  'drive_through',\n",
      "  'To indicate if an amenity offers a drive-through service.'),\n",
      " (2, 'crossing_ref', None),\n",
      " (2,\n",
      "  'created_by',\n",
      "  'Tag representing Editor/Script which created/(edited) this item.'),\n",
      " (2, 'covered', 'A property to denote that an object is covered by something.'),\n",
      " (2, 'alt_name', 'Another name or names by which the feature is known.')]\n"
     ]
    }
   ],
   "source": [
    "pprint.pprint(sorted(report, reverse=True))"
   ]
  },
  {
   "cell_type": "markdown",
   "metadata": {},
   "source": [
    "###### report\n",
    "\n",
    "## Solving problems in the tags\n",
    "\n",
    "### tag 'addr:housenumber'"
   ]
  },
  {
   "cell_type": "code",
   "execution_count": 174,
   "metadata": {
    "collapsed": false
   },
   "outputs": [
    {
     "data": {
      "text/plain": [
       "['29/1', '2А', '2а', '3', '3/1', '3/2']"
      ]
     },
     "execution_count": 174,
     "metadata": {},
     "output_type": "execute_result"
    }
   ],
   "source": [
    "list(sorted(content['addr:housenumber']))[319:325]"
   ]
  },
  {
   "cell_type": "markdown",
   "metadata": {},
   "source": [
    "House numbers include digits and letters. They have large and small letters and also have Latin letters instead of Cyrillic."
   ]
  },
  {
   "cell_type": "code",
   "execution_count": 175,
   "metadata": {
    "collapsed": true
   },
   "outputs": [],
   "source": [
    "def addr_housenumber(item):\n",
    "    \"\"\" The function converts house number to uppercase\n",
    "        and replaces Latin letter 'A' to Cyrillic letter 'А'.\n",
    "\n",
    "    Args:\n",
    "        item (str): house number\n",
    "\n",
    "    Returns:\n",
    "        str: fixed house number    \n",
    "    \"\"\"\n",
    "    return item.upper().replace('A', 'А') "
   ]
  },
  {
   "cell_type": "markdown",
   "metadata": {},
   "source": [
    "###### background"
   ]
  },
  {
   "cell_type": "code",
   "execution_count": 176,
   "metadata": {
    "collapsed": false
   },
   "outputs": [
    {
     "name": "stdout",
     "output_type": "stream",
     "text": [
      "dirty house numbers 685\n",
      "clean house numbers 680\n"
     ]
    }
   ],
   "source": [
    "# after treatment\n",
    "print('dirty house numbers', len(content['addr:housenumber']))\n",
    "print('clean house numbers', len(set([addr_housenumber(item) for item in content['addr:housenumber']])))"
   ]
  },
  {
   "cell_type": "markdown",
   "metadata": {},
   "source": [
    "###### report\n",
    "\n",
    "### tags 'name', 'description' and 'addr:street'"
   ]
  },
  {
   "cell_type": "code",
   "execution_count": 177,
   "metadata": {
    "collapsed": false
   },
   "outputs": [
    {
     "data": {
      "text/plain": [
       "['вул.Лісогринівецька', 'пр.Миру 102/2\\n', 'пр. Миру']"
      ]
     },
     "execution_count": 177,
     "metadata": {},
     "output_type": "execute_result"
    }
   ],
   "source": [
    "[item for item in content['addr:street'] if '.' in item]"
   ]
  },
  {
   "cell_type": "markdown",
   "metadata": {},
   "source": [
    "Street names can contain abbreviations and special marks."
   ]
  },
  {
   "cell_type": "code",
   "execution_count": 178,
   "metadata": {
    "collapsed": true
   },
   "outputs": [],
   "source": [
    "def addr_street(item):\n",
    "    \"\"\" The function deletes separator (\\n, \\t) from a name of a street\n",
    "        and replaces Cyrillic abbreviations to the full name.\n",
    "\n",
    "    Args:\n",
    "        item (str): name of a street\n",
    "        \n",
    "    Returns:\n",
    "        str: fixed name of a street    \n",
    "    \"\"\"\n",
    "    item = ' вулиця '.join(item.split('вул.'))\n",
    "    item = ' проспект '.join(item.split('пр.'))\n",
    "    return ' '.join(item.split())"
   ]
  },
  {
   "cell_type": "markdown",
   "metadata": {},
   "source": [
    "###### background"
   ]
  },
  {
   "cell_type": "code",
   "execution_count": 179,
   "metadata": {
    "collapsed": false
   },
   "outputs": [
    {
     "data": {
      "text/plain": [
       "['вулиця Лісогринівецька', 'проспект Миру 102/2', 'проспект Миру']"
      ]
     },
     "execution_count": 179,
     "metadata": {},
     "output_type": "execute_result"
    }
   ],
   "source": [
    "# after treatment\n",
    "[addr_street(item) for item in content['addr:street'] if '.' in item]"
   ]
  },
  {
   "cell_type": "markdown",
   "metadata": {},
   "source": [
    "###### report\n",
    "\n",
    "### tag 'addr:city'"
   ]
  },
  {
   "cell_type": "code",
   "execution_count": 180,
   "metadata": {
    "collapsed": false
   },
   "outputs": [
    {
     "data": {
      "text/plain": [
       "{'Гвардійське',\n",
       " 'Хмельницкий',\n",
       " 'Хмельницький',\n",
       " 'Чорний Острів',\n",
       " 'ст. Богданівці',\n",
       " 'хмельницкий',\n",
       " 'хмельницький'}"
      ]
     },
     "execution_count": 180,
     "metadata": {},
     "output_type": "execute_result"
    }
   ],
   "source": [
    "content['addr:city']"
   ]
  },
  {
   "cell_type": "markdown",
   "metadata": {},
   "source": [
    "The name of the two cities recorded twice. The first time the name starts with a capital letter a second time with a small letter. And one name contains abbreviation."
   ]
  },
  {
   "cell_type": "code",
   "execution_count": 181,
   "metadata": {
    "collapsed": true
   },
   "outputs": [],
   "source": [
    "def addr_city(item):\n",
    "    \"\"\" The function capitalizes Cyrillic letter 'х' in the start of the word\n",
    "        and replaces Cyrillic abbreviations to the full name.\n",
    "\n",
    "    Args:\n",
    "        item (str): name of a city\n",
    "        \n",
    "    Returns:\n",
    "        str: fixed name of a city\n",
    "    \"\"\"    \n",
    "    if item.startswith('ст.'):\n",
    "        item = 'станція' + item[3:]\n",
    "    elif item.startswith('х'):\n",
    "        item = 'Х' + item[1:]\n",
    "    return item"
   ]
  },
  {
   "cell_type": "markdown",
   "metadata": {},
   "source": [
    "###### background"
   ]
  },
  {
   "cell_type": "code",
   "execution_count": 182,
   "metadata": {
    "collapsed": false,
    "scrolled": true
   },
   "outputs": [
    {
     "data": {
      "text/plain": [
       "{'Гвардійське',\n",
       " 'Хмельницкий',\n",
       " 'Хмельницький',\n",
       " 'Чорний Острів',\n",
       " 'станція Богданівці'}"
      ]
     },
     "execution_count": 182,
     "metadata": {},
     "output_type": "execute_result"
    }
   ],
   "source": [
    "# after treatment\n",
    "set([addr_city(item) for item in content['addr:city']])"
   ]
  },
  {
   "cell_type": "markdown",
   "metadata": {},
   "source": [
    "###### report\n",
    "\n",
    "### tag 'phone' and 'phone_1'"
   ]
  },
  {
   "cell_type": "code",
   "execution_count": 183,
   "metadata": {
    "collapsed": false
   },
   "outputs": [
    {
     "name": "stdout",
     "output_type": "stream",
     "text": [
      "+380382651217\n",
      "(0382) 777-832\n",
      "+38 0382 74-20-87\n",
      "+38 0382 784767\n",
      "0382 702030, 067 3831328\n",
      "+30382701010\n",
      "+38 (03822) 3-2241\n",
      "+38 (050) 436-19-45\n",
      "0382704903\n",
      "0 (97) 110 50 69\n",
      "719700\n",
      "64-74-84\n"
     ]
    }
   ],
   "source": [
    "lens = set(range(100))\n",
    "for phone in content['phone']:\n",
    "    if len(phone) in lens:\n",
    "        lens.remove(len(phone))\n",
    "        print(phone)"
   ]
  },
  {
   "cell_type": "code",
   "execution_count": 184,
   "metadata": {
    "collapsed": false
   },
   "outputs": [
    {
     "name": "stdout",
     "output_type": "stream",
     "text": [
      "[' ', '(', ')', '+', ',', '-', '/', '0', '1', '2', '3', '4', '5', '6', '7', '8', '9']\n"
     ]
    }
   ],
   "source": [
    "# What symbols did use to enter phone numbers?\n",
    "print(list(sorted(set(i for item in content['phone'] for i in item))))"
   ]
  },
  {
   "cell_type": "code",
   "execution_count": 185,
   "metadata": {
    "collapsed": false
   },
   "outputs": [
    {
     "data": {
      "text/plain": [
       "['0382 702030, 067 3831328',\n",
       " '65-74-74 / 65-10-91',\n",
       " '067-311-81-95 / 71-86-45',\n",
       " '067-327-40-67 / 65-54-93']"
      ]
     },
     "execution_count": 185,
     "metadata": {},
     "output_type": "execute_result"
    }
   ],
   "source": [
    "# phone nubera with '/' and ','\n",
    "[item for item in content['phone'] if ('/' in item) or (',' in item)]"
   ]
  },
  {
   "cell_type": "markdown",
   "metadata": {},
   "source": [
    "Some items have delimiters and contain two phone numbers. Phone numbers should be in international ([ITU-T E.164](http://wiki.openstreetmap.org/wiki/Key:phone)) format."
   ]
  },
  {
   "cell_type": "code",
   "execution_count": 186,
   "metadata": {
    "collapsed": true
   },
   "outputs": [],
   "source": [
    "def format_phone(phone):\n",
    "    \"\"\" The function converts phone number to international (ITU-T E.164) format\n",
    "        following the pattern '+<country code> <area code> <local number>'\n",
    "        http://wiki.openstreetmap.org/wiki/Elements\n",
    "\n",
    "    Args:\n",
    "        item (str): numbers of phones with delimiters ',' or '/'\n",
    "\n",
    "    Returns:\n",
    "        list of str: corrected phone number\n",
    "    \"\"\"\n",
    "    phones = phone.replace('/', ',').split(',')\n",
    "    for i in range(len(phones)):\n",
    "        item = ''.join(list(reversed([x for x in phones[i] if x.isdigit()])))\n",
    "        if len(item) > 7:\n",
    "            item = item[:7] + ' ' + item[7:]\n",
    "        if len(item) > 11:\n",
    "            item = item[:11] + ' ' + item[11:]\n",
    "        if len(item) > 12:\n",
    "            item = item + '+'\n",
    "        phones[i] = item[::-1]\n",
    "    return phones"
   ]
  },
  {
   "cell_type": "markdown",
   "metadata": {},
   "source": [
    "###### background"
   ]
  },
  {
   "cell_type": "code",
   "execution_count": 187,
   "metadata": {
    "collapsed": false
   },
   "outputs": [
    {
     "name": "stdout",
     "output_type": "stream",
     "text": [
      "['+38 038 2651217']\n",
      "['038 2777832']\n",
      "['+3 038 2701010']\n",
      "['657474', '651091']\n"
     ]
    }
   ],
   "source": [
    "# after treatment\n",
    "lens = set(range(100))\n",
    "for phone in content['phone']:\n",
    "    phone = format_phone(phone)\n",
    "    if len(phone[0]) in lens:\n",
    "        lens.remove(len(phone[0]))\n",
    "        print(phone)"
   ]
  },
  {
   "cell_type": "markdown",
   "metadata": {},
   "source": [
    "###### report\n",
    "\n",
    "### tag 'addr:postcode'"
   ]
  },
  {
   "cell_type": "code",
   "execution_count": 188,
   "metadata": {
    "collapsed": false
   },
   "outputs": [
    {
     "data": {
      "text/plain": [
       "['29000-29499', '2900']"
      ]
     },
     "execution_count": 188,
     "metadata": {},
     "output_type": "execute_result"
    }
   ],
   "source": [
    "[item for item in content['addr:postcode'] if len(item) != 5]"
   ]
  },
  {
   "cell_type": "markdown",
   "metadata": {},
   "source": [
    "One postcode has the error less than five characters. Another postcode is the range of codes entered in one field. I will not import these postcodes."
   ]
  },
  {
   "cell_type": "markdown",
   "metadata": {
    "collapsed": true
   },
   "source": [
    "Now I ready to make json-file and export this file in MongoDB"
   ]
  },
  {
   "cell_type": "markdown",
   "metadata": {},
   "source": [
    "###### background"
   ]
  },
  {
   "cell_type": "code",
   "execution_count": 189,
   "metadata": {
    "collapsed": true
   },
   "outputs": [],
   "source": [
    "## clearing unused variables\n",
    "# content.clear()\n",
    "# report.clear()"
   ]
  },
  {
   "cell_type": "code",
   "execution_count": 190,
   "metadata": {
    "collapsed": false
   },
   "outputs": [],
   "source": [
    "def shape_element(element):\n",
    "    \"\"\" This procedure generates one document for related elements.\n",
    "\n",
    "    Args:\n",
    "        element: one node from OSM-file with subordinate elements\n",
    "\n",
    "    Returns:\n",
    "        dict: JSON-document for MongoDB\n",
    "    \"\"\"\n",
    "    \n",
    "    phone_name_suffix = [''] + ['_'+str(x) for x in range(1, 10)]\n",
    "    phone_name_number = 0\n",
    "    \n",
    "    document = {}\n",
    "    if element.tag in ['node', 'way', 'relation']:\n",
    "        document[\"_id\"] = {'$numberLong': element.attrib['id']}\n",
    "        document[\"type\"] = element.tag\n",
    "        document['user'] = element.attrib['user']\n",
    "        document['uid'] = int(element.attrib['uid'])\n",
    "        document['version'] = int(element.attrib['version'])\n",
    "        document['changeset'] = int(element.attrib['changeset'])\n",
    "        document['timestamp'] = {\"$date\": element.attrib['timestamp']}\n",
    "        if element.tag == 'node':\n",
    "            document['location'] = {\"type\": \"Point\",\n",
    "                                    \"coordinates\": [float(element.attrib['lon']),\n",
    "                                                    float(element.attrib['lat'])] }        \n",
    "\n",
    "        document['tags'] = dict()\n",
    "        document['refs'] = list()\n",
    "        document['members'] = list()\n",
    "                \n",
    "        for child in element:\n",
    "            if child.tag == 'tag':\n",
    "                k = child.attrib['k']\n",
    "                v = child.attrib['v']\n",
    "                if k in ['ele', 'esr:code', 'heritage', 'gauge', 'cables', 'koatuu',\n",
    "                         'ISO3166-1:numeric', 'whc:inscription_date', 'capital',\n",
    "                         'lanes', 'height', 'start_date', 'platforms', 'layer',\n",
    "                         'level', 'frequency', 'admin_level', 'building:levels',\n",
    "                         'capacity', 'passenger_lines', 'stars', 'express:code',\n",
    "                         'tracks', 'esr:user', 'mtb:scale', 'number', 'circuits',\n",
    "                         'maxspeed', 'population', 'rooms']:\n",
    "                    document['tags'][k] = int(v)\n",
    "\n",
    "                elif k in ['width', 'distance']:\n",
    "                    document['tags'][k] = float(v)\n",
    "\n",
    "                elif k == 'addr:housenumber':\n",
    "                    document['tags'][k] = addr_housenumber(v)\n",
    "\n",
    "                elif k in ['name', 'description', 'addr:street']:\n",
    "                    document['tags'][k] = addr_street(v)\n",
    "\n",
    "                elif k == 'addr:city':\n",
    "                    document['tags'][k] = addr_city(v)\n",
    "\n",
    "                elif k == 'addr:postcode':\n",
    "                    if len(v) == 5:\n",
    "                        document['tags'][k] = int(v)\n",
    "\n",
    "                elif k in ['phone', 'phone_1']:\n",
    "                    for phone in format_phone(v):\n",
    "                        phone_key = 'phone' + phone_name_suffix[phone_name_number]\n",
    "                        document['tags'][phone_key] = phone\n",
    "                        phone_name_number += 1\n",
    "\n",
    "                else:\n",
    "                    document['tags'][k] = v\n",
    "\n",
    "            if child.tag == 'nd':\n",
    "                document['refs'].append({'$numberLong': child.attrib['ref']})\n",
    "                \n",
    "            if child.tag == 'member':\n",
    "                member = dict()\n",
    "                for k, v in child.items():\n",
    "                    if k == 'ref':\n",
    "                        member[k] = {'$numberLong': v}\n",
    "                    else:\n",
    "                        member[k] = v\n",
    "                document['members'].append(member)\n",
    "                \n",
    "        # clearing unused variables                \n",
    "        if not document['tags']:\n",
    "            del document['tags']\n",
    "        if not document['refs']:\n",
    "            del document['refs']\n",
    "        if not document['members']:\n",
    "            del document['members']\n",
    "\n",
    "        return document\n",
    "    else:\n",
    "        return None"
   ]
  },
  {
   "cell_type": "code",
   "execution_count": 214,
   "metadata": {
    "collapsed": false
   },
   "outputs": [],
   "source": [
    "def process_map(file_xml, file_json):\n",
    "    \"\"\" The function converts OSM-file to JSON-file\n",
    "\n",
    "    Args:\n",
    "        file_xml (str): name of OSM-file for reading\n",
    "        file_json (str): name of JSON-file for writing\n",
    "\n",
    "    Returns:\n",
    "        None\n",
    "    \"\"\"\n",
    "    with codecs.open(file_json, \"w\") as fo:\n",
    "        for _, element in ET.iterparse(file_xml, events=(\"start\",)):\n",
    "            el = shape_element(element)\n",
    "            if el:\n",
    "                fo.write(json.dumps(el) + \"\\n\")"
   ]
  },
  {
   "cell_type": "markdown",
   "metadata": {},
   "source": [
    "#### uncomment next block for recording JSON-file"
   ]
  },
  {
   "cell_type": "code",
   "execution_count": 216,
   "metadata": {
    "collapsed": false
   },
   "outputs": [],
   "source": [
    "# process_map(file_input, file_output)"
   ]
  },
  {
   "cell_type": "markdown",
   "metadata": {},
   "source": [
    "**This command imports JSON-file to MongoDB.**\n",
    "\n",
    "```bash\n",
    "$ mongoimport -db maps -c khmelnytskyi --file khmelnytskyi_region.json --jsonArray\n",
    "```"
   ]
  },
  {
   "cell_type": "code",
   "execution_count": 193,
   "metadata": {
    "collapsed": false
   },
   "outputs": [],
   "source": [
    "# connect with MongoDB\n",
    "client = MongoClient('localhost:27017')\n",
    "db = client['maps']\n",
    "\n",
    "# results of executing aggregation pipeline operators\n",
    "def aggregate(pipeline):\n",
    "    return pprint.pprint(list(db.khmelnytskyi.aggregate(pipeline)))"
   ]
  },
  {
   "cell_type": "markdown",
   "metadata": {},
   "source": [
    "###### report\n",
    "\n",
    "## Data Overview\n",
    "\n",
    "                                                \n",
    "### File sizes"
   ]
  },
  {
   "cell_type": "code",
   "execution_count": 194,
   "metadata": {
    "collapsed": false
   },
   "outputs": [
    {
     "name": "stdout",
     "output_type": "stream",
     "text": [
      "110144963 bytes  -  khmelnytskyi_region.json\r\n",
      "74945880 bytes  -  khmelnytskyi_region.osm\r\n"
     ]
    }
   ],
   "source": [
    "!stat --printf='%s bytes  -  %n\\n' khmelnytskyi*"
   ]
  },
  {
   "cell_type": "markdown",
   "metadata": {},
   "source": [
    "### About the dataset\n",
    "\n",
    "##### Number of documents"
   ]
  },
  {
   "cell_type": "code",
   "execution_count": 195,
   "metadata": {
    "collapsed": false
   },
   "outputs": [
    {
     "data": {
      "text/plain": [
       "388520"
      ]
     },
     "execution_count": 195,
     "metadata": {},
     "output_type": "execute_result"
    }
   ],
   "source": [
    "db.khmelnytskyi.count()"
   ]
  },
  {
   "cell_type": "markdown",
   "metadata": {},
   "source": [
    "##### Number of documents by type"
   ]
  },
  {
   "cell_type": "code",
   "execution_count": 196,
   "metadata": {
    "collapsed": false
   },
   "outputs": [
    {
     "name": "stdout",
     "output_type": "stream",
     "text": [
      "[{'_id': 'node', 'count': 349488},\n",
      " {'_id': 'relation', 'count': 460},\n",
      " {'_id': 'way', 'count': 38572}]\n"
     ]
    }
   ],
   "source": [
    "aggregate([\n",
    "    {'$group':{'_id':'$type', 'count':{'$sum': 1}}},\n",
    "    {'$sort':{'_id': 1}}\n",
    "])"
   ]
  },
  {
   "cell_type": "markdown",
   "metadata": {},
   "source": [
    "##### Number of unique users"
   ]
  },
  {
   "cell_type": "code",
   "execution_count": 197,
   "metadata": {
    "collapsed": false
   },
   "outputs": [
    {
     "data": {
      "text/plain": [
       "263"
      ]
     },
     "execution_count": 197,
     "metadata": {},
     "output_type": "execute_result"
    }
   ],
   "source": [
    "len(db.khmelnytskyi.distinct(\"user\"))"
   ]
  },
  {
   "cell_type": "markdown",
   "metadata": {},
   "source": [
    "##### Top 5 contributing user"
   ]
  },
  {
   "cell_type": "code",
   "execution_count": 198,
   "metadata": {
    "collapsed": false
   },
   "outputs": [
    {
     "name": "stdout",
     "output_type": "stream",
     "text": [
      "[{'_id': 'georg troyan', 'count': 247803},\n",
      " {'_id': 'teologovsan', 'count': 37627},\n",
      " {'_id': 'Vulpes-Vulpeos', 'count': 22903},\n",
      " {'_id': 'dexter_khm', 'count': 18667},\n",
      " {'_id': 'InnerIn', 'count': 15889}]\n"
     ]
    }
   ],
   "source": [
    "aggregate([\n",
    "    {'$group':{'_id':'$user', 'count':{'$sum': 1}}},\n",
    "    {'$sort':{'count': -1}},\n",
    "    {'$limit': 5}\n",
    "])"
   ]
  },
  {
   "cell_type": "markdown",
   "metadata": {},
   "source": [
    "##### Number of users appearing only once (having 1 post)"
   ]
  },
  {
   "cell_type": "code",
   "execution_count": 199,
   "metadata": {
    "collapsed": false
   },
   "outputs": [
    {
     "name": "stdout",
     "output_type": "stream",
     "text": [
      "[{'_id': 'having 1 post', 'count': 66}]\n"
     ]
    }
   ],
   "source": [
    "aggregate([\n",
    "    {'$group':{'_id':'$user', 'count':{'$sum': 1}}},\n",
    "    {'$match':{'count': {'$eq': 1}}},\n",
    "    {'$group': {'_id': 'having 1 post', 'count':{'$sum': 1}}}\n",
    "])"
   ]
  },
  {
   "cell_type": "markdown",
   "metadata": {},
   "source": [
    "##### User of the year"
   ]
  },
  {
   "cell_type": "code",
   "execution_count": 200,
   "metadata": {
    "collapsed": false
   },
   "outputs": [
    {
     "name": "stdout",
     "output_type": "stream",
     "text": [
      "[{'_id': 2008, 'first': {'count': 74, 'user': 'Sturla'}},\n",
      " {'_id': 2009, 'first': {'count': 617, 'user': 'arconaut'}},\n",
      " {'_id': 2010, 'first': {'count': 1306, 'user': 'arconaut'}},\n",
      " {'_id': 2011, 'first': {'count': 37627, 'user': 'teologovsan'}},\n",
      " {'_id': 2012, 'first': {'count': 8628, 'user': 'georg troyan'}},\n",
      " {'_id': 2013, 'first': {'count': 60846, 'user': 'georg troyan'}},\n",
      " {'_id': 2014, 'first': {'count': 170587, 'user': 'georg troyan'}},\n",
      " {'_id': 2015, 'first': {'count': 7742, 'user': 'georg troyan'}},\n",
      " {'_id': 2016, 'first': {'count': 15889, 'user': 'InnerIn'}},\n",
      " {'_id': 2017, 'first': {'count': 7015, 'user': 'Vulpes-Vulpeos'}}]\n"
     ]
    }
   ],
   "source": [
    "aggregate([\n",
    "    {'$group':{\n",
    "        '_id':{'year': { '$year': '$timestamp' }, 'user': '$user'},\n",
    "        'count':{'$sum': 1}\n",
    "    }},\n",
    "    { '$sort': { '_id.year': 1, 'count': -1 }},\n",
    "    { '$group':{\n",
    "        '_id':'$_id.year',\n",
    "        'first': {'$first': {'user': '$_id.user','count': '$count'}}\n",
    "    }},\n",
    "    { '$sort': { '_id': 1}}\n",
    "])"
   ]
  },
  {
   "cell_type": "markdown",
   "metadata": {},
   "source": [
    "##### Number of data entered by a year"
   ]
  },
  {
   "cell_type": "code",
   "execution_count": 201,
   "metadata": {
    "collapsed": false
   },
   "outputs": [
    {
     "name": "stdout",
     "output_type": "stream",
     "text": [
      "[{'_id': 2008, 'count': 74},\n",
      " {'_id': 2009, 'count': 656},\n",
      " {'_id': 2010, 'count': 1410},\n",
      " {'_id': 2011, 'count': 58483},\n",
      " {'_id': 2012, 'count': 16947},\n",
      " {'_id': 2013, 'count': 71637},\n",
      " {'_id': 2014, 'count': 175072},\n",
      " {'_id': 2015, 'count': 18177},\n",
      " {'_id': 2016, 'count': 38620},\n",
      " {'_id': 2017, 'count': 7444}]\n"
     ]
    }
   ],
   "source": [
    "aggregate([\n",
    "    {'$group':{\n",
    "        '_id': { '$year': '$timestamp' }, 'count':{'$sum': 1}\n",
    "    }},\n",
    "    {'$sort': { '_id': 1}}\n",
    "])"
   ]
  },
  {
   "cell_type": "markdown",
   "metadata": {},
   "source": [
    "##### Number of changeset with only one changed element\n",
    "\n",
    "A changeset consists of a group of changes made by a single user over a short period of time."
   ]
  },
  {
   "cell_type": "code",
   "execution_count": 202,
   "metadata": {
    "collapsed": false
   },
   "outputs": [
    {
     "name": "stdout",
     "output_type": "stream",
     "text": [
      "[{'_id': 'only one change', 'count': 989}]\n"
     ]
    }
   ],
   "source": [
    "aggregate([\n",
    "    {'$group': {'_id': '$changeset', 'count': {'$sum': 1}}},\n",
    "    {'$match': {'count': 1}},\n",
    "    {'$group': {'_id': 'only one change', 'count': {'$sum': 1}}}\n",
    "])"
   ]
  },
  {
   "cell_type": "markdown",
   "metadata": {},
   "source": [
    "##### Largest changeset in this region"
   ]
  },
  {
   "cell_type": "code",
   "execution_count": 203,
   "metadata": {
    "collapsed": false
   },
   "outputs": [
    {
     "name": "stdout",
     "output_type": "stream",
     "text": [
      "[{'_id': 9366778, 'elemens': 4914}]\n"
     ]
    }
   ],
   "source": [
    "aggregate([\n",
    "    {'$group': {'_id': '$changeset', 'elemens': {'$sum': 1}}},\n",
    "    {'$sort': {'elemens': -1}},\n",
    "    {'$limit': 1}\n",
    "])"
   ]
  },
  {
   "cell_type": "markdown",
   "metadata": {},
   "source": [
    "##### Number of new elements in the largest changeset"
   ]
  },
  {
   "cell_type": "code",
   "execution_count": 204,
   "metadata": {
    "collapsed": false
   },
   "outputs": [
    {
     "name": "stdout",
     "output_type": "stream",
     "text": [
      "[{'_id': 'new elements', 'count': 15}]\n"
     ]
    }
   ],
   "source": [
    "aggregate([\n",
    "    {'$match': {'changeset': 9366778, 'version': 1}},\n",
    "    {'$group': {'_id': 'new elements', 'count': {'$sum': 1}}}\n",
    "])"
   ]
  },
  {
   "cell_type": "markdown",
   "metadata": {},
   "source": [
    "##### Number of changes by type in the largest changeset"
   ]
  },
  {
   "cell_type": "code",
   "execution_count": 205,
   "metadata": {
    "collapsed": false
   },
   "outputs": [
    {
     "name": "stdout",
     "output_type": "stream",
     "text": [
      "[{'_id': 'node', 'count': 4910},\n",
      " {'_id': 'way', 'count': 3},\n",
      " {'_id': 'relation', 'count': 1}]\n"
     ]
    }
   ],
   "source": [
    "aggregate([\n",
    "    {'$match': {'changeset': 9366778}},\n",
    "    {'$group': {'_id': '$type', 'count': {'$sum': 1}}},\n",
    "    {'$sort': {'count': -1}}\n",
    "])"
   ]
  },
  {
   "cell_type": "markdown",
   "metadata": {},
   "source": [
    "### About the tags\n",
    "\n",
    "##### Top 3 appearing amenities"
   ]
  },
  {
   "cell_type": "code",
   "execution_count": 206,
   "metadata": {
    "collapsed": false
   },
   "outputs": [
    {
     "name": "stdout",
     "output_type": "stream",
     "text": [
      "[{'_id': 'parking', 'count': 149},\n",
      " {'_id': 'hospital', 'count': 65},\n",
      " {'_id': 'school', 'count': 59}]\n"
     ]
    }
   ],
   "source": [
    "aggregate([\n",
    "    {'$match': {'tags.amenity' : { '$exists': True } }},\n",
    "    {'$group': {'_id': '$tags.amenity', 'count': {'$sum': 1}}},\n",
    "    {'$sort': {'count': -1}},\n",
    "    {'$limit': 3}\n",
    "])"
   ]
  },
  {
   "cell_type": "markdown",
   "metadata": {},
   "source": [
    "##### Top 3 shops"
   ]
  },
  {
   "cell_type": "code",
   "execution_count": 207,
   "metadata": {
    "collapsed": false,
    "scrolled": true
   },
   "outputs": [
    {
     "name": "stdout",
     "output_type": "stream",
     "text": [
      "[{'_id': 'convenience', 'count': 79},\n",
      " {'_id': 'supermarket', 'count': 30},\n",
      " {'_id': 'kiosk', 'count': 23}]\n"
     ]
    }
   ],
   "source": [
    "aggregate([\n",
    "    {'$match': {'tags.shop' : { '$exists': True } }},\n",
    "    {'$group': {'_id': '$tags.shop', 'count': {'$sum': 1}}},\n",
    "    {'$sort': {'count': -1}},\n",
    "    {'$limit': 3}\n",
    "])"
   ]
  },
  {
   "cell_type": "markdown",
   "metadata": {},
   "source": [
    "##### Top 5 appearing name's of street"
   ]
  },
  {
   "cell_type": "code",
   "execution_count": 208,
   "metadata": {
    "collapsed": false
   },
   "outputs": [
    {
     "name": "stdout",
     "output_type": "stream",
     "text": [
      "[{'_id': 'Проскурівська вулиця', 'count': 138},\n",
      " {'_id': 'Миру проспект', 'count': 84},\n",
      " {'_id': 'Подільська вулиця', 'count': 81},\n",
      " {'_id': 'Грушевського вулиця', 'count': 81},\n",
      " {'_id': 'Соборна вулиця', 'count': 76}]\n"
     ]
    }
   ],
   "source": [
    "aggregate([\n",
    "    {'$match': {'tags.addr:street' : { '$exists': True } }},\n",
    "    {'$group': {'_id': '$tags.addr:street', 'count': {'$sum': 1}}},\n",
    "    {'$sort': {'count': -1}},\n",
    "    {'$limit': 5}\n",
    "])"
   ]
  },
  {
   "cell_type": "markdown",
   "metadata": {},
   "source": [
    "##### Top 3 type's of leisure"
   ]
  },
  {
   "cell_type": "code",
   "execution_count": 209,
   "metadata": {
    "collapsed": false,
    "scrolled": true
   },
   "outputs": [
    {
     "name": "stdout",
     "output_type": "stream",
     "text": [
      "[{'_id': 'pitch', 'count': 71},\n",
      " {'_id': 'garden', 'count': 62},\n",
      " {'_id': 'stadium', 'count': 16}]\n"
     ]
    }
   ],
   "source": [
    "aggregate([\n",
    "    {'$match': {'tags.leisure' : { '$exists': True } }},\n",
    "    {'$group': {'_id': '$tags.leisure', 'count': {'$sum': 1}}},\n",
    "    {'$sort': {'count': -1}},\n",
    "    {'$limit': 3}\n",
    "])"
   ]
  },
  {
   "cell_type": "markdown",
   "metadata": {},
   "source": [
    "### About the map\n",
    "\n",
    "##### If I want to visit the central park of Khmelnitsky where can I charge my car at this time?"
   ]
  },
  {
   "cell_type": "code",
   "execution_count": 210,
   "metadata": {
    "collapsed": false
   },
   "outputs": [
    {
     "name": "stdout",
     "output_type": "stream",
     "text": [
      "[{'distance': 814.3856324451427,\n",
      "  'location': {'coordinates': [26.9801727, 49.4261483]}},\n",
      " {'distance': 847.8606041482592,\n",
      "  'location': {'coordinates': [26.9812475, 49.4264254]}},\n",
      " {'distance': 1262.6767588361008,\n",
      "  'location': {'coordinates': [26.981175, 49.4216741]}}]\n"
     ]
    }
   ],
   "source": [
    "aggregate([\n",
    "    {'$geoNear': {\n",
    "        'near': { 'type': 'Point', 'coordinates': [ 26.97257, 49.43154 ] },\n",
    "        'distanceField': 'distance',\n",
    "        'query': {'tags.amenity': 'charging_station'},\n",
    "        'includeLocs': \"location\",\n",
    "        'limit': 3,\n",
    "        'spherical': True\n",
    "    }},\n",
    "    {'$project':{'_id': 0, 'distance':1, 'location.coordinates': 1}}\n",
    "])"
   ]
  },
  {
   "cell_type": "markdown",
   "metadata": {},
   "source": [
    "The best choice is number two, and I can find the [way from charging station to the park](https://www.openstreetmap.org/directions?engine=mapzen_foot&route=49.4264254%2C26.9812475%3B49.43154%2C26.97257)."
   ]
  },
  {
   "cell_type": "markdown",
   "metadata": {},
   "source": [
    "## Conclusion\n",
    "\n",
    "At first glance, the data are the result of the work of communities contain many errors and for checking their need much time. But really, everything was easier.\n",
    "\n",
    "The attributes of elements had no problems. Only geolocation data required the particular form for record data to JSON-file.\n",
    "\n",
    "Then I investigated 442 kinds of tags. At first, I rejected tags that can be automatically converted to numbers. Then I dismissed the tags that have only one value and tags of objects in foreign languages that I do not know. \n",
    "\n",
    "Check the tags using external sources also brought success. To test the data for loading into MongoDB, I used the SQLite database from the [taginfo.openstreetmap.org](taginfo.openstreetmap.org) site and rejected 33 tags that thoroughly described in the wiki and did not contain unnecessary information. \n",
    "\n",
    "As a result, 81 tags left to handle manually, of which only 33% contained more than ten values. \n",
    "\n",
    "After loading data into MongoDB and viewing statistics, it appears that information about the region in which I live is not complete. Very few objects are attractive to consumers. I think the reason for this is the poor activity of communities. Only 3 of the 263 users contributed almost 80% of the information. Peak data entry was in 2014 and now decreases.\n",
    "\n",
    "But the primary goal achieved - information from an open source that made by communities can prepay and use for various tasks. Particularly, in this case,  I interested to make requests about location data and calculating distances on the map."
   ]
  },
  {
   "cell_type": "markdown",
   "metadata": {},
   "source": [
    "## What can be done to improve the data set?\n",
    "\n",
    "If we consider the specific data set of the map, we can use the [Notes API](http://wiki.openstreetmap.org/wiki/Notes#Notes_API) to load comments to incomplete data (for example, for the houses that are marked on the map and not have a number ask the number) and request the community to assist in completing the required data.\n",
    "\n",
    "Advantages:\n",
    "\n",
    "- the corrected data immediately sends on the site, and this information will be available for the next download\n",
    "- Notes API allow tracking how the community is correcting data and seeing which items are closed and are not.\n",
    "\n",
    "Disadvantages:\n",
    "\n",
    "- the community can not immediately edit all notes, it may take a long time, and all data will not ready to the desired time.\n",
    "- the fixed data must again pass through the procedure of preparation, review, and download."
   ]
  },
  {
   "cell_type": "markdown",
   "metadata": {},
   "source": [
    "If I will dream about improving the data on the site, it is possible to develop a game similar to Pokemon GO app that will combine data from maps and stream of the camera. The goal of the game, instead of collecting Pokemon hunt the white spots on the map and bring information about them to the site using a GPS. After the introduction of related information about objects, gamers gain points and become the owners of the facility in the virtual space. They can sell them or exchange on other artifacts. Players can unite in groups. They may fight among themselves. They may hunt the new facilities on the map, may fix inaccuracies of other users or add new relevant related information of old objects.\n",
    "\n",
    "There may be not active users who can watch the results of the game. For example pointing a smartphone at a building, to see the information about him. The picture is something like the Terminator seen: house number, owner, information about companies inside the building, and other.\n",
    "\n",
    "Advantages:\n",
    "\n",
    "- invitation new members of the community\n",
    "- data will input directly from the local place using GPS\n",
    "\n",
    "Disadvantages:\n",
    "- collected data may contain many inaccuracies because the time affect the outcome of the game \n",
    "- Received data belong to certain classes of objects that will be limited the size of smartphone's screen. Information about buildings will be entered easy but will complex task collect data for roads, forests, lakes and other big objects.\n",
    "- will be hard to maintain the activity of players when white spots on the maps will tend to end"
   ]
  },
  {
   "cell_type": "markdown",
   "metadata": {},
   "source": [
    "## References\n",
    "\n",
    "- [OpenStreetMap](https://www.openstreetmap.org/)\n",
    "- [OpenStreetMap Documentation](http://wiki.openstreetmap.org/wiki/Main_Page)\n",
    "- [OSM XML Documentation](http://wiki.openstreetmap.org/wiki/OSM_XML)\n",
    "- [Taginfo download page](https://taginfo.openstreetmap.org/download)\n",
    "- [ITU-T E.164 - international format for numbers phone](http://wiki.openstreetmap.org/wiki/Key:phone)\n",
    "- [Notes API](http://wiki.openstreetmap.org/wiki/Notes#Notes_API)\n",
    "\n",
    "\n",
    "###### background\n",
    "\n",
    "## Tools for cleaning report"
   ]
  },
  {
   "cell_type": "code",
   "execution_count": 211,
   "metadata": {
    "collapsed": true
   },
   "outputs": [],
   "source": [
    "def clean_report(in_file, out_file):\n",
    "    # remove background parts of the report\n",
    "    out = False\n",
    "    with open(in_file, 'r') as f_in:\n",
    "        with open(out_file, 'w') as f_out:\n",
    "            for line in f_in:\n",
    "                if line.strip().startswith('###### report'):\n",
    "                    out = True\n",
    "                elif line.strip().startswith('###### background'):\n",
    "                    out = False\n",
    "                else:\n",
    "                    if out:\n",
    "                        f_out.write(line)"
   ]
  },
  {
   "cell_type": "code",
   "execution_count": 212,
   "metadata": {
    "collapsed": false
   },
   "outputs": [
    {
     "name": "stdout",
     "output_type": "stream",
     "text": [
      "[NbConvertApp] Converting notebook investigation.ipynb to markdown\n",
      "[NbConvertApp] Writing 37077 bytes to investigation.md\n"
     ]
    }
   ],
   "source": [
    "# convert to md-file\n",
    "!jupyter nbconvert --to markdown investigation.ipynb"
   ]
  },
  {
   "cell_type": "code",
   "execution_count": 213,
   "metadata": {
    "collapsed": false
   },
   "outputs": [],
   "source": [
    "clean_report('investigation.md', 'report.md')"
   ]
  }
 ],
 "metadata": {
  "anaconda-cloud": {},
  "celltoolbar": "Raw Cell Format",
  "kernelspec": {
   "display_name": "Python 3",
   "language": "python",
   "name": "python3"
  },
  "language_info": {
   "codemirror_mode": {
    "name": "ipython",
    "version": 3
   },
   "file_extension": ".py",
   "mimetype": "text/x-python",
   "name": "python",
   "nbconvert_exporter": "python",
   "pygments_lexer": "ipython3",
   "version": "3.6.0"
  }
 },
 "nbformat": 4,
 "nbformat_minor": 1
}

{
 "cells": [
  {
   "cell_type": "markdown",
   "metadata": {
    "collapsed": true
   },
   "source": [
    "\n",
    "# Introduction\n",
    "\n",
    "This project analyzes the dataset of Titanic - contains demographics and passenger information from 891 of the 2224 passengers on board the Titanic. We can view a description of this dataset on the [Kaggle website](https://www.kaggle.com/c/titanic/data). Additional information about Titanic is available on the [Wikipedia](https://en.wikipedia.org/wiki/RMS_Titanic)."
   ]
  },
  {
   "cell_type": "code",
   "execution_count": 1,
   "metadata": {
    "collapsed": false
   },
   "outputs": [
    {
     "name": "stdout",
     "output_type": "stream",
     "text": [
      "Populating the interactive namespace from numpy and matplotlib\n"
     ]
    }
   ],
   "source": [
    "# Server Information:\n",
    "# The version of the Jupyter notebook server is 4.2.3 and is running on: Python 3.5.2 \n",
    "# Anaconda custom (64-bit) (default, Jul 2 2016, 17:53:06) [GCC 4.4.7 20120313 (Red Hat 4.4.7-1)]\n",
    "\n",
    "import matplotlib.pyplot as plt\n",
    "import numpy as np\n",
    "import pandas as pd\n",
    "from scipy import stats\n",
    "import seaborn as sns\n",
    "\n",
    "%pylab inline"
   ]
  },
  {
   "cell_type": "markdown",
   "metadata": {},
   "source": [
    "## Research questions: \n",
    "### - What factors made people more likely or not to survive?\n",
    "### - How life passenger depends on the price of the bought ticket?\n"
   ]
  },
  {
   "cell_type": "markdown",
   "metadata": {},
   "source": [
    "## First look at data"
   ]
  },
  {
   "cell_type": "code",
   "execution_count": 2,
   "metadata": {
    "collapsed": false,
    "scrolled": true
   },
   "outputs": [
    {
     "data": {
      "text/html": [
       "<div>\n",
       "<table border=\"1\" class=\"dataframe\">\n",
       "  <thead>\n",
       "    <tr style=\"text-align: right;\">\n",
       "      <th></th>\n",
       "      <th>PassengerId</th>\n",
       "      <th>Survived</th>\n",
       "      <th>Pclass</th>\n",
       "      <th>Name</th>\n",
       "      <th>Sex</th>\n",
       "      <th>Age</th>\n",
       "      <th>SibSp</th>\n",
       "      <th>Parch</th>\n",
       "      <th>Ticket</th>\n",
       "      <th>Fare</th>\n",
       "      <th>Cabin</th>\n",
       "      <th>Embarked</th>\n",
       "    </tr>\n",
       "  </thead>\n",
       "  <tbody>\n",
       "    <tr>\n",
       "      <th>0</th>\n",
       "      <td>1</td>\n",
       "      <td>0</td>\n",
       "      <td>3</td>\n",
       "      <td>Braund, Mr. Owen Harris</td>\n",
       "      <td>male</td>\n",
       "      <td>22.0</td>\n",
       "      <td>1</td>\n",
       "      <td>0</td>\n",
       "      <td>A/5 21171</td>\n",
       "      <td>7.2500</td>\n",
       "      <td>NaN</td>\n",
       "      <td>S</td>\n",
       "    </tr>\n",
       "    <tr>\n",
       "      <th>1</th>\n",
       "      <td>2</td>\n",
       "      <td>1</td>\n",
       "      <td>1</td>\n",
       "      <td>Cumings, Mrs. John Bradley (Florence Briggs Th...</td>\n",
       "      <td>female</td>\n",
       "      <td>38.0</td>\n",
       "      <td>1</td>\n",
       "      <td>0</td>\n",
       "      <td>PC 17599</td>\n",
       "      <td>71.2833</td>\n",
       "      <td>C85</td>\n",
       "      <td>C</td>\n",
       "    </tr>\n",
       "    <tr>\n",
       "      <th>2</th>\n",
       "      <td>3</td>\n",
       "      <td>1</td>\n",
       "      <td>3</td>\n",
       "      <td>Heikkinen, Miss. Laina</td>\n",
       "      <td>female</td>\n",
       "      <td>26.0</td>\n",
       "      <td>0</td>\n",
       "      <td>0</td>\n",
       "      <td>STON/O2. 3101282</td>\n",
       "      <td>7.9250</td>\n",
       "      <td>NaN</td>\n",
       "      <td>S</td>\n",
       "    </tr>\n",
       "    <tr>\n",
       "      <th>3</th>\n",
       "      <td>4</td>\n",
       "      <td>1</td>\n",
       "      <td>1</td>\n",
       "      <td>Futrelle, Mrs. Jacques Heath (Lily May Peel)</td>\n",
       "      <td>female</td>\n",
       "      <td>35.0</td>\n",
       "      <td>1</td>\n",
       "      <td>0</td>\n",
       "      <td>113803</td>\n",
       "      <td>53.1000</td>\n",
       "      <td>C123</td>\n",
       "      <td>S</td>\n",
       "    </tr>\n",
       "    <tr>\n",
       "      <th>4</th>\n",
       "      <td>5</td>\n",
       "      <td>0</td>\n",
       "      <td>3</td>\n",
       "      <td>Allen, Mr. William Henry</td>\n",
       "      <td>male</td>\n",
       "      <td>35.0</td>\n",
       "      <td>0</td>\n",
       "      <td>0</td>\n",
       "      <td>373450</td>\n",
       "      <td>8.0500</td>\n",
       "      <td>NaN</td>\n",
       "      <td>S</td>\n",
       "    </tr>\n",
       "  </tbody>\n",
       "</table>\n",
       "</div>"
      ],
      "text/plain": [
       "   PassengerId  Survived  Pclass  \\\n",
       "0            1         0       3   \n",
       "1            2         1       1   \n",
       "2            3         1       3   \n",
       "3            4         1       1   \n",
       "4            5         0       3   \n",
       "\n",
       "                                                Name     Sex   Age  SibSp  \\\n",
       "0                            Braund, Mr. Owen Harris    male  22.0      1   \n",
       "1  Cumings, Mrs. John Bradley (Florence Briggs Th...  female  38.0      1   \n",
       "2                             Heikkinen, Miss. Laina  female  26.0      0   \n",
       "3       Futrelle, Mrs. Jacques Heath (Lily May Peel)  female  35.0      1   \n",
       "4                           Allen, Mr. William Henry    male  35.0      0   \n",
       "\n",
       "   Parch            Ticket     Fare Cabin Embarked  \n",
       "0      0         A/5 21171   7.2500   NaN        S  \n",
       "1      0          PC 17599  71.2833   C85        C  \n",
       "2      0  STON/O2. 3101282   7.9250   NaN        S  \n",
       "3      0            113803  53.1000  C123        S  \n",
       "4      0            373450   8.0500   NaN        S  "
      ]
     },
     "metadata": {},
     "output_type": "display_data"
    }
   ],
   "source": [
    "# titanic = pd.read_csv('titanic-data.csv')\n",
    "titanic = pd.read_csv('https://d17h27t6h515a5.cloudfront.net/topher/2016/September/57e9a84c_titanic-data/titanic-data.csv')\n",
    "display(titanic.head())"
   ]
  },
  {
   "cell_type": "code",
   "execution_count": 3,
   "metadata": {
    "collapsed": false,
    "scrolled": true
   },
   "outputs": [
    {
     "name": "stdout",
     "output_type": "stream",
     "text": [
      "<class 'pandas.core.frame.DataFrame'>\n",
      "RangeIndex: 891 entries, 0 to 890\n",
      "Data columns (total 12 columns):\n",
      "PassengerId    891 non-null int64\n",
      "Survived       891 non-null int64\n",
      "Pclass         891 non-null int64\n",
      "Name           891 non-null object\n",
      "Sex            891 non-null object\n",
      "Age            714 non-null float64\n",
      "SibSp          891 non-null int64\n",
      "Parch          891 non-null int64\n",
      "Ticket         891 non-null object\n",
      "Fare           891 non-null float64\n",
      "Cabin          204 non-null object\n",
      "Embarked       889 non-null object\n",
      "dtypes: float64(2), int64(5), object(5)\n",
      "memory usage: 83.6+ KB\n"
     ]
    }
   ],
   "source": [
    "titanic.info()"
   ]
  },
  {
   "cell_type": "markdown",
   "metadata": {},
   "source": [
    "**Conclusions:** Column *PassengerId* is equivalent to the index of a record. \n",
    "I removed the columns *Name* and *PassengerId*, which in future I will not be used."
   ]
  },
  {
   "cell_type": "code",
   "execution_count": 4,
   "metadata": {
    "collapsed": true
   },
   "outputs": [],
   "source": [
    "del titanic['Name']\n",
    "del titanic['PassengerId']"
   ]
  },
  {
   "cell_type": "markdown",
   "metadata": {},
   "source": [
    "#### Variable Category:\n",
    "\n",
    "- *Categorical:* Survived, Pclass, Sex, SibSp, Parch, Ticket, **Cabin\\***, **Embarked\\***.\n",
    "- *Continuous:* **Age\\***, Fare.\n",
    "\n",
    "**\\* - missing data**"
   ]
  },
  {
   "cell_type": "markdown",
   "metadata": {},
   "source": [
    "### Summary statistics"
   ]
  },
  {
   "cell_type": "code",
   "execution_count": 5,
   "metadata": {
    "collapsed": false
   },
   "outputs": [
    {
     "data": {
      "text/html": [
       "<div>\n",
       "<table border=\"1\" class=\"dataframe\">\n",
       "  <thead>\n",
       "    <tr style=\"text-align: right;\">\n",
       "      <th></th>\n",
       "      <th>count</th>\n",
       "      <th>mean</th>\n",
       "      <th>std</th>\n",
       "      <th>min</th>\n",
       "      <th>50%</th>\n",
       "      <th>max</th>\n",
       "    </tr>\n",
       "  </thead>\n",
       "  <tbody>\n",
       "    <tr>\n",
       "      <th>Survived</th>\n",
       "      <td>891.0</td>\n",
       "      <td>0.383838</td>\n",
       "      <td>0.486592</td>\n",
       "      <td>0.00</td>\n",
       "      <td>0.0000</td>\n",
       "      <td>1.0000</td>\n",
       "    </tr>\n",
       "    <tr>\n",
       "      <th>Pclass</th>\n",
       "      <td>891.0</td>\n",
       "      <td>2.308642</td>\n",
       "      <td>0.836071</td>\n",
       "      <td>1.00</td>\n",
       "      <td>3.0000</td>\n",
       "      <td>3.0000</td>\n",
       "    </tr>\n",
       "    <tr>\n",
       "      <th>SibSp</th>\n",
       "      <td>891.0</td>\n",
       "      <td>0.523008</td>\n",
       "      <td>1.102743</td>\n",
       "      <td>0.00</td>\n",
       "      <td>0.0000</td>\n",
       "      <td>8.0000</td>\n",
       "    </tr>\n",
       "    <tr>\n",
       "      <th>Parch</th>\n",
       "      <td>891.0</td>\n",
       "      <td>0.381594</td>\n",
       "      <td>0.806057</td>\n",
       "      <td>0.00</td>\n",
       "      <td>0.0000</td>\n",
       "      <td>6.0000</td>\n",
       "    </tr>\n",
       "    <tr>\n",
       "      <th>Age</th>\n",
       "      <td>714.0</td>\n",
       "      <td>29.699118</td>\n",
       "      <td>14.526497</td>\n",
       "      <td>0.42</td>\n",
       "      <td>28.0000</td>\n",
       "      <td>80.0000</td>\n",
       "    </tr>\n",
       "    <tr>\n",
       "      <th>Fare</th>\n",
       "      <td>891.0</td>\n",
       "      <td>32.204208</td>\n",
       "      <td>49.693429</td>\n",
       "      <td>0.00</td>\n",
       "      <td>14.4542</td>\n",
       "      <td>512.3292</td>\n",
       "    </tr>\n",
       "  </tbody>\n",
       "</table>\n",
       "</div>"
      ],
      "text/plain": [
       "          count       mean        std   min      50%       max\n",
       "Survived  891.0   0.383838   0.486592  0.00   0.0000    1.0000\n",
       "Pclass    891.0   2.308642   0.836071  1.00   3.0000    3.0000\n",
       "SibSp     891.0   0.523008   1.102743  0.00   0.0000    8.0000\n",
       "Parch     891.0   0.381594   0.806057  0.00   0.0000    6.0000\n",
       "Age       714.0  29.699118  14.526497  0.42  28.0000   80.0000\n",
       "Fare      891.0  32.204208  49.693429  0.00  14.4542  512.3292"
      ]
     },
     "metadata": {},
     "output_type": "display_data"
    },
    {
     "data": {
      "text/html": [
       "<div>\n",
       "<table border=\"1\" class=\"dataframe\">\n",
       "  <thead>\n",
       "    <tr style=\"text-align: right;\">\n",
       "      <th></th>\n",
       "      <th>count</th>\n",
       "      <th>unique</th>\n",
       "      <th>top</th>\n",
       "      <th>freq</th>\n",
       "    </tr>\n",
       "  </thead>\n",
       "  <tbody>\n",
       "    <tr>\n",
       "      <th>Sex</th>\n",
       "      <td>891</td>\n",
       "      <td>2</td>\n",
       "      <td>male</td>\n",
       "      <td>577</td>\n",
       "    </tr>\n",
       "    <tr>\n",
       "      <th>Ticket</th>\n",
       "      <td>891</td>\n",
       "      <td>681</td>\n",
       "      <td>1601</td>\n",
       "      <td>7</td>\n",
       "    </tr>\n",
       "    <tr>\n",
       "      <th>Cabin</th>\n",
       "      <td>204</td>\n",
       "      <td>147</td>\n",
       "      <td>B96 B98</td>\n",
       "      <td>4</td>\n",
       "    </tr>\n",
       "    <tr>\n",
       "      <th>Embarked</th>\n",
       "      <td>889</td>\n",
       "      <td>3</td>\n",
       "      <td>S</td>\n",
       "      <td>644</td>\n",
       "    </tr>\n",
       "  </tbody>\n",
       "</table>\n",
       "</div>"
      ],
      "text/plain": [
       "         count unique      top freq\n",
       "Sex        891      2     male  577\n",
       "Ticket     891    681     1601    7\n",
       "Cabin      204    147  B96 B98    4\n",
       "Embarked   889      3        S  644"
      ]
     },
     "metadata": {},
     "output_type": "display_data"
    }
   ],
   "source": [
    "t = titanic.describe(percentiles=[], include=['int64'])\n",
    "t['Age'] = titanic[titanic.Age.notnull()][['Age']].describe(percentiles=[])\n",
    "t['Fare'] = titanic[['Fare']].describe(percentiles=[])\n",
    "display(t.T)\n",
    "display(titanic.describe(percentiles=[], include=['object']).T)"
   ]
  },
  {
   "cell_type": "markdown",
   "metadata": {},
   "source": [
    "**Conclusions:** Not all records contain information about age, cabin and port of embarkation."
   ]
  },
  {
   "cell_type": "markdown",
   "metadata": {},
   "source": [
    "### Categorical variables"
   ]
  },
  {
   "cell_type": "code",
   "execution_count": 6,
   "metadata": {
    "collapsed": false
   },
   "outputs": [
    {
     "data": {
      "text/html": [
       "<div>\n",
       "<table border=\"1\" class=\"dataframe\">\n",
       "  <thead>\n",
       "    <tr style=\"text-align: right;\">\n",
       "      <th></th>\n",
       "      <th>count</th>\n",
       "      <th>unique</th>\n",
       "      <th>top</th>\n",
       "      <th>freq</th>\n",
       "    </tr>\n",
       "  </thead>\n",
       "  <tbody>\n",
       "    <tr>\n",
       "      <th>Survival</th>\n",
       "      <td>891</td>\n",
       "      <td>2</td>\n",
       "      <td>Died</td>\n",
       "      <td>549</td>\n",
       "    </tr>\n",
       "    <tr>\n",
       "      <th>Class</th>\n",
       "      <td>891</td>\n",
       "      <td>3</td>\n",
       "      <td>Third Class</td>\n",
       "      <td>491</td>\n",
       "    </tr>\n",
       "    <tr>\n",
       "      <th>Ports</th>\n",
       "      <td>889</td>\n",
       "      <td>3</td>\n",
       "      <td>Southampton</td>\n",
       "      <td>644</td>\n",
       "    </tr>\n",
       "  </tbody>\n",
       "</table>\n",
       "</div>"
      ],
      "text/plain": [
       "         count unique          top freq\n",
       "Survival   891      2         Died  549\n",
       "Class      891      3  Third Class  491\n",
       "Ports      889      3  Southampton  644"
      ]
     },
     "metadata": {},
     "output_type": "display_data"
    }
   ],
   "source": [
    "# add more descriptive labels\n",
    "titanic['Passenger Counts'] = 1\n",
    "titanic['Survival'] = titanic.Survived.map({0 : 'Died',\n",
    "                                            1 : 'Survived'})\n",
    "titanic['Class'] = titanic.Pclass.map({1 : 'First Class',\n",
    "                                       2 : 'Second Class',\n",
    "                                       3 : 'Third Class'})\n",
    "titanic['Ports'] = titanic.Embarked.map({'C' : 'Cherbourg',\n",
    "                                         'Q' : 'Queenstown',\n",
    "                                         'S' : 'Southampton'})\n",
    "display(titanic[['Survival', 'Class', 'Ports']].describe(percentiles=[], include=['object']).T)"
   ]
  },
  {
   "cell_type": "code",
   "execution_count": 7,
   "metadata": {
    "collapsed": false
   },
   "outputs": [
    {
     "data": {
      "image/png": "[encoded data removed]",
      "text/plain": [
       "<matplotlib.figure.Figure at 0x7f47921af080>"
      ]
     },
     "metadata": {},
     "output_type": "display_data"
    }
   ],
   "source": [
    "fig, axes = plt.subplots(6, figsize=(8,10))\n",
    "plt.subplots_adjust(hspace=0.7)\n",
    "titanic[['Passenger Counts', 'Survival']].groupby(['Survival']).count().plot.barh(subplots=True,\n",
    "                                                            ax=axes[0], legend='')\n",
    "titanic[['Passenger Counts', 'Sex']].groupby(['Sex']).count().plot.barh(subplots=True,\n",
    "                                                            ax=axes[1], legend='')\n",
    "titanic[['Passenger Counts', 'Class']].groupby(['Class']).count().plot.barh(subplots=True,\n",
    "                                                            ax=axes[2], legend='')\n",
    "titanic[['Passenger Counts', 'Ports']].groupby(['Ports']).count().plot.barh(subplots=True,\n",
    "                                                            ax=axes[3], legend='')\n",
    "titanic[['Passenger Counts', 'SibSp']].groupby(['SibSp']).count().plot.barh(subplots=True,\n",
    "                                                            ax=axes[4], legend='')\n",
    "titanic[['Passenger Counts', 'Parch']].groupby(['Parch']).count().plot.barh(subplots=True,\n",
    "                                                            ax=axes[5], legend='')\n",
    "show()"
   ]
  },
  {
   "cell_type": "markdown",
   "metadata": {},
   "source": [
    "### Continuous variables"
   ]
  },
  {
   "cell_type": "code",
   "execution_count": 8,
   "metadata": {
    "collapsed": false
   },
   "outputs": [
    {
     "data": {
      "text/html": [
       "<div>\n",
       "<table border=\"1\" class=\"dataframe\">\n",
       "  <thead>\n",
       "    <tr style=\"text-align: right;\">\n",
       "      <th></th>\n",
       "      <th>count</th>\n",
       "      <th>mean</th>\n",
       "      <th>std</th>\n",
       "      <th>min</th>\n",
       "      <th>25%</th>\n",
       "      <th>50%</th>\n",
       "      <th>75%</th>\n",
       "      <th>max</th>\n",
       "    </tr>\n",
       "  </thead>\n",
       "  <tbody>\n",
       "    <tr>\n",
       "      <th>Age</th>\n",
       "      <td>714.0</td>\n",
       "      <td>29.699118</td>\n",
       "      <td>14.526497</td>\n",
       "      <td>0.42</td>\n",
       "      <td>20.125</td>\n",
       "      <td>28.0</td>\n",
       "      <td>38.0</td>\n",
       "      <td>80.0</td>\n",
       "    </tr>\n",
       "  </tbody>\n",
       "</table>\n",
       "</div>"
      ],
      "text/plain": [
       "     count       mean        std   min     25%   50%   75%   max\n",
       "Age  714.0  29.699118  14.526497  0.42  20.125  28.0  38.0  80.0"
      ]
     },
     "metadata": {},
     "output_type": "display_data"
    },
    {
     "data": {
      "image/png": "[encoded data removed]",
      "text/plain": [
       "<matplotlib.figure.Figure at 0x7f47c0a594a8>"
      ]
     },
     "metadata": {},
     "output_type": "display_data"
    }
   ],
   "source": [
    "display(titanic[titanic.Age.notnull()][['Age']].describe().T)\n",
    "fig, axes = plt.subplots(2, sharex=True)\n",
    "titanic[titanic.Age.notnull()][['Age']].plot.box(vert=False, subplots=True, ax=axes[0])\n",
    "titanic[titanic.Age.notnull()][['Age']].plot.hist(subplots=True, ax=axes[1], bins=16)\n",
    "show()"
   ]
  },
  {
   "cell_type": "code",
   "execution_count": 9,
   "metadata": {
    "collapsed": false
   },
   "outputs": [
    {
     "data": {
      "text/html": [
       "<div>\n",
       "<table border=\"1\" class=\"dataframe\">\n",
       "  <thead>\n",
       "    <tr style=\"text-align: right;\">\n",
       "      <th></th>\n",
       "      <th>count</th>\n",
       "      <th>mean</th>\n",
       "      <th>std</th>\n",
       "      <th>min</th>\n",
       "      <th>25%</th>\n",
       "      <th>50%</th>\n",
       "      <th>75%</th>\n",
       "      <th>max</th>\n",
       "    </tr>\n",
       "  </thead>\n",
       "  <tbody>\n",
       "    <tr>\n",
       "      <th>Fare</th>\n",
       "      <td>891.0</td>\n",
       "      <td>32.204208</td>\n",
       "      <td>49.693429</td>\n",
       "      <td>0.0</td>\n",
       "      <td>7.9104</td>\n",
       "      <td>14.4542</td>\n",
       "      <td>31.0</td>\n",
       "      <td>512.3292</td>\n",
       "    </tr>\n",
       "  </tbody>\n",
       "</table>\n",
       "</div>"
      ],
      "text/plain": [
       "      count       mean        std  min     25%      50%   75%       max\n",
       "Fare  891.0  32.204208  49.693429  0.0  7.9104  14.4542  31.0  512.3292"
      ]
     },
     "metadata": {},
     "output_type": "display_data"
    },
    {
     "data": {
      "image/png": "[encoded data removed]",
      "text/plain": [
       "<matplotlib.figure.Figure at 0x7f47921f3198>"
      ]
     },
     "metadata": {},
     "output_type": "display_data"
    }
   ],
   "source": [
    "display(titanic[['Fare']].describe().T)\n",
    "fig, axes = plt.subplots(2, sharex=True)\n",
    "titanic[['Fare']].plot.box(vert=False, subplots=True, ax=axes[0])\n",
    "titanic[['Fare']].plot.hist(subplots=True, ax=axes[1], bins=16)\n",
    "show()"
   ]
  },
  {
   "cell_type": "markdown",
   "metadata": {},
   "source": [
    "## Analysis\n",
    "*What factors made people more likely or not to survive?*"
   ]
  },
  {
   "cell_type": "markdown",
   "metadata": {},
   "source": [
    "### Variable \"Survived\"\n",
    "\n",
    "In the words of the [Kaggle website](https://www.kaggle.com/c/titanic/data):\n",
    "> Survived - Survival (0 = No; 1 = Yes)"
   ]
  },
  {
   "cell_type": "code",
   "execution_count": 10,
   "metadata": {
    "collapsed": false
   },
   "outputs": [
    {
     "name": "stdout",
     "output_type": "stream",
     "text": [
      "\n",
      "We have information about 891 passengers, 342 of whom survived, which is 38.4%.\n"
     ]
    }
   ],
   "source": [
    "PASSENGERS = titanic['Survived'].count()\n",
    "LIVE = titanic['Survived'].sum()\n",
    "MU = round(titanic['Survived'].mean(), 3)\n",
    "print('\\nWe have information about %s passengers, %s of whom survived, which is %s%%.'\n",
    "      % (PASSENGERS, LIVE, MU * 100))"
   ]
  },
  {
   "cell_type": "markdown",
   "metadata": {},
   "source": [
    "### Statistics\n",
    "\n",
    "To check the results, I will use the [Chi-Square Test for Independence](http://stattrek.com/chi-square-test/independence.aspx) and [Hypothesis Test of a Proportion (Small Sample)](http://stattrek.com/hypothesis-test/proportion-small-sample.aspx)."
   ]
  },
  {
   "cell_type": "code",
   "execution_count": 11,
   "metadata": {
    "collapsed": true
   },
   "outputs": [],
   "source": [
    "def pivot(data, indexes, columns):\n",
    "    \"\"\" Create a spreadsheet-style table\n",
    "        data = DataFrame; indexes, columns = lists.\n",
    "    \"\"\"\n",
    "    return pd.pivot_table(data[indexes + columns], index = indexes,\n",
    "                          columns = columns, aggfunc = len, fill_value=0)"
   ]
  },
  {
   "cell_type": "code",
   "execution_count": 12,
   "metadata": {
    "collapsed": true
   },
   "outputs": [],
   "source": [
    "def test_chisquare(data):\n",
    "    \"\"\" Chi-Squared Tests\n",
    "        http://stattrek.com/chi-square-test/independence.aspx\n",
    "        It is used to determine whether there is a significant\n",
    "        association between the two variables.\n",
    "    \"\"\"\n",
    "    name_index = data.index.name\n",
    "    name_column = data.columns.name\n",
    "    \n",
    "    err = []\n",
    "    for idx in data.index.tolist():\n",
    "        if np.min(data.ix[idx]) < 5:\n",
    "            err.append(str(idx))\n",
    "    if err:\n",
    "        print('The expected frequency count for each cell of the table is at least 5.')\n",
    "        print('Errors in %s: \"%s\"' % (name_index, '\", \"'.join(err)))\n",
    "        return\n",
    "\n",
    "    chi2, p_value, dof, expected = stats.chi2_contingency(data)\n",
    "    \n",
    "    print('>>> Chi-Squared Test on \"{0}\" to \"{1}\":'\n",
    "          '\\n\\n    Null hypothesis:  Variable \"{0}\" and Variable \"{1}\" are independent.'\n",
    "          '\\n    Alternative hypothesis:  Variable \"{0}\" and Variable \"{1}\" are not independent.'\n",
    "          '\\n\\nThese hypotheses constitute a one-tailed test. The significance level is 0.05.'\n",
    "          '\\nStatistic = {2}'\n",
    "          ''.format(name_index, name_column, chi2))\n",
    "    if p_value < 0.05:\n",
    "        print('Since the p-value ({0}) is less than the significance level (0.05),'\n",
    "              '\\nwe cannot accept the null hypothesis.'\n",
    "              '\\nConclusion:\\n    There is a relationship between Variable \"{1}\" and Variable \"{2}.\"'\n",
    "              ' <<<'.format(p_value, name_index, name_column))\n",
    "    else:\n",
    "        print('Since the p-value ({0}) is more than the significance level (0.05),'\n",
    "              '\\nwe cannot reject the null hypothesis.'\n",
    "              '\\nConclusion:\\n    Variable \"{1}\" and Variable \"{2}\" are independent.'\n",
    "              ' <<<'.format(p_value, name_index, name_column))"
   ]
  },
  {
   "cell_type": "code",
   "execution_count": 13,
   "metadata": {
    "collapsed": false
   },
   "outputs": [],
   "source": [
    "def test_proportion(data):\n",
    "    \"\"\" Hypothesis Test of a Proportion\n",
    "        http://stattrek.com/hypothesis-test/proportion-small-sample.aspx\n",
    "    \"\"\"\n",
    "    data['Passengers'] = data.Died + data.Survived\n",
    "    data['Proportion'] = data.Survived / data.Passengers\n",
    "    mini = lambda x: stats.hypergeom(PASSENGERS, LIVE,x).interval(0.95)[0]/x\n",
    "    maxi = lambda x: stats.hypergeom(PASSENGERS, LIVE,x).interval(0.95)[1]/x\n",
    "    data['Mini'] = data.Passengers.apply(mini)\n",
    "    data['Maxi'] = data.Passengers.apply(maxi)\n",
    "\n",
    "    print(\"\\nProportions for '%s'\" % data.index.name)\n",
    "    fig, ax = plt.subplots()\n",
    "    plt.axhline(MU, color='r', lw=1, label='population MU=0.384')\n",
    "    data['Proportion'].plot.bar(ax=ax, label='sample')\n",
    "    plt.vlines(range(len(data)), data['Mini'], data['Maxi'], lw=3, color='lime', label='region of acceptance')\n",
    "    plt.legend(loc='best', frameon=False)\n",
    "    plt.ylim(ymax=1.0)\n",
    "    plt.ylabel('Proportion')\n",
    "    plt.show()\n",
    "\n",
    "    for idx in data.index.tolist():\n",
    "        live = data.ix[idx]['Survived']\n",
    "        passengers = data.ix[idx]['Passengers']\n",
    "        proportion = data.at[idx, 'Proportion']\n",
    "        mini = data.at[idx,'Mini']\n",
    "        maxi = data.at[idx,'Maxi']\n",
    "        sample = \"'{}'='{}'\".format(data.index.name, idx)\n",
    "        st = stats.hypergeom(PASSENGERS, LIVE, passengers)\n",
    "\n",
    "        print('\\n\\n>>> Test of a Proportion for ({4}):\\n'\n",
    "              '\\n    Null hypothesis: Proportion = {5}'\n",
    "              '\\n    Alternative hypothesis: Proportion != {5}\\n'\n",
    "              '\\nThese hypotheses constitute a two-tailed test. The significance level is 0.05.'\n",
    "              '\\nSample have information about {0:0.0f} passengers, {1:0.0f} of whom survived.'\n",
    "              '\\nThe region of acceptance is [{2:0.3f}; {3:0.3f}]'\n",
    "              ''.format(passengers, live, mini, maxi, sample, MU))\n",
    "        \n",
    "        if proportion > maxi:\n",
    "            level = st.sf(live)\n",
    "            print('Since the sample proportion ({0:0.3f}) is more than the region of acceptance,'\n",
    "                  '\\nwe cannot accept the null hypothesis at the {3} level of significance.'\n",
    "                  '\\nConclusions:\\n    This factor ({4}) was essential for survival.'\n",
    "                  ' <<<'.format(proportion, mini, maxi, level, sample))\n",
    "            \n",
    "        elif proportion < mini:\n",
    "            level = st.cdf(live)\n",
    "            print('Since the sample proportion ({0:0.3f}) is less than the region of acceptance,'\n",
    "                  '\\nwe cannot accept the null hypothesis at the {3} level of significance.'\n",
    "                  '\\nConclusions:\\n    This factor ({4}) essentially influenced the likelihood to die.'\n",
    "                  ' <<<'.format(proportion, mini, maxi, level, sample))\n",
    "        else:\n",
    "            print('Since the sample proportion ({0:0.3f}) is within the region of acceptance,'\n",
    "                  '\\nwe cannot reject the null hypothesis.'\n",
    "                  ' <<<'.format(proportion, mini, maxi))"
   ]
  },
  {
   "cell_type": "markdown",
   "metadata": {},
   "source": [
    "### Variable \"Pclass\" (Class)\n",
    "\n",
    "In the words of the [Kaggle website](https://www.kaggle.com/c/titanic/data):\n",
    "> Pclass - Passenger Class (1 = 1st; 2 = 2nd; 3 = 3rd)\n",
    ">\n",
    "> SPECIAL NOTES:\n",
    "> Pclass is a proxy for socio-economic status (SES)\n",
    "> 1st ~ Upper; 2nd ~ Middle; 3rd ~ Lower"
   ]
  },
  {
   "cell_type": "code",
   "execution_count": 14,
   "metadata": {
    "collapsed": false
   },
   "outputs": [
    {
     "data": {
      "text/html": [
       "<div>\n",
       "<table border=\"1\" class=\"dataframe\">\n",
       "  <thead>\n",
       "    <tr style=\"text-align: right;\">\n",
       "      <th>Survival</th>\n",
       "      <th>Died</th>\n",
       "      <th>Survived</th>\n",
       "    </tr>\n",
       "    <tr>\n",
       "      <th>Class</th>\n",
       "      <th></th>\n",
       "      <th></th>\n",
       "    </tr>\n",
       "  </thead>\n",
       "  <tbody>\n",
       "    <tr>\n",
       "      <th>First Class</th>\n",
       "      <td>80</td>\n",
       "      <td>136</td>\n",
       "    </tr>\n",
       "    <tr>\n",
       "      <th>Second Class</th>\n",
       "      <td>97</td>\n",
       "      <td>87</td>\n",
       "    </tr>\n",
       "    <tr>\n",
       "      <th>Third Class</th>\n",
       "      <td>372</td>\n",
       "      <td>119</td>\n",
       "    </tr>\n",
       "  </tbody>\n",
       "</table>\n",
       "</div>"
      ],
      "text/plain": [
       "Survival      Died  Survived\n",
       "Class                       \n",
       "First Class     80       136\n",
       "Second Class    97        87\n",
       "Third Class    372       119"
      ]
     },
     "metadata": {},
     "output_type": "display_data"
    }
   ],
   "source": [
    "tmp = pivot(titanic, ['Class'], ['Survival'])\n",
    "display(tmp)"
   ]
  },
  {
   "cell_type": "code",
   "execution_count": 15,
   "metadata": {
    "collapsed": false
   },
   "outputs": [
    {
     "name": "stdout",
     "output_type": "stream",
     "text": [
      ">>> Chi-Squared Test on \"Class\" to \"Survival\":\n",
      "\n",
      "    Null hypothesis:  Variable \"Class\" and Variable \"Survival\" are independent.\n",
      "    Alternative hypothesis:  Variable \"Class\" and Variable \"Survival\" are not independent.\n",
      "\n",
      "These hypotheses constitute a one-tailed test. The significance level is 0.05.\n",
      "Statistic = 102.88898875696056\n",
      "Since the p-value (4.549251711298793e-23) is less than the significance level (0.05),\n",
      "we cannot accept the null hypothesis.\n",
      "Conclusion:\n",
      "    There is a relationship between Variable \"Class\" and Variable \"Survival.\" <<<\n"
     ]
    }
   ],
   "source": [
    "test_chisquare(tmp)"
   ]
  },
  {
   "cell_type": "code",
   "execution_count": 16,
   "metadata": {
    "collapsed": false
   },
   "outputs": [
    {
     "name": "stdout",
     "output_type": "stream",
     "text": [
      "\n",
      "Proportions for 'Class'\n"
     ]
    },
    {
     "data": {
      "image/png": "[encoded data removed]",
      "text/plain": [
       "<matplotlib.figure.Figure at 0x7f478f96da90>"
      ]
     },
     "metadata": {},
     "output_type": "display_data"
    },
    {
     "name": "stdout",
     "output_type": "stream",
     "text": [
      "\n",
      "\n",
      ">>> Test of a Proportion for ('Class'='First Class'):\n",
      "\n",
      "    Null hypothesis: Proportion = 0.384\n",
      "    Alternative hypothesis: Proportion != 0.384\n",
      "\n",
      "These hypotheses constitute a two-tailed test. The significance level is 0.05.\n",
      "Sample have information about 216 passengers, 136 of whom survived.\n",
      "The region of acceptance is [0.329; 0.440]\n",
      "Since the sample proportion (0.630) is more than the region of acceptance,\n",
      "we cannot accept the null hypothesis at the 7.28653098952498e-18 level of significance.\n",
      "Conclusions:\n",
      "    This factor ('Class'='First Class') was essential for survival. <<<\n",
      "\n",
      "\n",
      ">>> Test of a Proportion for ('Class'='Second Class'):\n",
      "\n",
      "    Null hypothesis: Proportion = 0.384\n",
      "    Alternative hypothesis: Proportion != 0.384\n",
      "\n",
      "These hypotheses constitute a two-tailed test. The significance level is 0.05.\n",
      "Sample have information about 184 passengers, 87 of whom survived.\n",
      "The region of acceptance is [0.321; 0.446]\n",
      "Since the sample proportion (0.473) is more than the region of acceptance,\n",
      "we cannot accept the null hypothesis at the 0.0021841334665130426 level of significance.\n",
      "Conclusions:\n",
      "    This factor ('Class'='Second Class') was essential for survival. <<<\n",
      "\n",
      "\n",
      ">>> Test of a Proportion for ('Class'='Third Class'):\n",
      "\n",
      "    Null hypothesis: Proportion = 0.384\n",
      "    Alternative hypothesis: Proportion != 0.384\n",
      "\n",
      "These hypotheses constitute a two-tailed test. The significance level is 0.05.\n",
      "Sample have information about 491 passengers, 119 of whom survived.\n",
      "The region of acceptance is [0.354; 0.413]\n",
      "Since the sample proportion (0.242) is less than the region of acceptance,\n",
      "we cannot accept the null hypothesis at the 3.833823062545082e-22 level of significance.\n",
      "Conclusions:\n",
      "    This factor ('Class'='Third Class') essentially influenced the likelihood to die. <<<\n"
     ]
    }
   ],
   "source": [
    "test_proportion(tmp)"
   ]
  },
  {
   "cell_type": "markdown",
   "metadata": {},
   "source": [
    "### Variable \"Sex\""
   ]
  },
  {
   "cell_type": "code",
   "execution_count": 17,
   "metadata": {
    "collapsed": false
   },
   "outputs": [
    {
     "data": {
      "text/html": [
       "<div>\n",
       "<table border=\"1\" class=\"dataframe\">\n",
       "  <thead>\n",
       "    <tr style=\"text-align: right;\">\n",
       "      <th>Survival</th>\n",
       "      <th>Died</th>\n",
       "      <th>Survived</th>\n",
       "    </tr>\n",
       "    <tr>\n",
       "      <th>Sex</th>\n",
       "      <th></th>\n",
       "      <th></th>\n",
       "    </tr>\n",
       "  </thead>\n",
       "  <tbody>\n",
       "    <tr>\n",
       "      <th>female</th>\n",
       "      <td>81</td>\n",
       "      <td>233</td>\n",
       "    </tr>\n",
       "    <tr>\n",
       "      <th>male</th>\n",
       "      <td>468</td>\n",
       "      <td>109</td>\n",
       "    </tr>\n",
       "  </tbody>\n",
       "</table>\n",
       "</div>"
      ],
      "text/plain": [
       "Survival  Died  Survived\n",
       "Sex                     \n",
       "female      81       233\n",
       "male       468       109"
      ]
     },
     "metadata": {},
     "output_type": "display_data"
    }
   ],
   "source": [
    "tmp = pivot(titanic, ['Sex'], ['Survival'])\n",
    "display(tmp)"
   ]
  },
  {
   "cell_type": "code",
   "execution_count": 18,
   "metadata": {
    "collapsed": false
   },
   "outputs": [
    {
     "name": "stdout",
     "output_type": "stream",
     "text": [
      ">>> Chi-Squared Test on \"Sex\" to \"Survival\":\n",
      "\n",
      "    Null hypothesis:  Variable \"Sex\" and Variable \"Survival\" are independent.\n",
      "    Alternative hypothesis:  Variable \"Sex\" and Variable \"Survival\" are not independent.\n",
      "\n",
      "These hypotheses constitute a one-tailed test. The significance level is 0.05.\n",
      "Statistic = 260.71702016732104\n",
      "Since the p-value (1.1973570627755645e-58) is less than the significance level (0.05),\n",
      "we cannot accept the null hypothesis.\n",
      "Conclusion:\n",
      "    There is a relationship between Variable \"Sex\" and Variable \"Survival.\" <<<\n"
     ]
    }
   ],
   "source": [
    "test_chisquare(tmp)"
   ]
  },
  {
   "cell_type": "code",
   "execution_count": 19,
   "metadata": {
    "collapsed": false
   },
   "outputs": [
    {
     "name": "stdout",
     "output_type": "stream",
     "text": [
      "\n",
      "Proportions for 'Sex'\n"
     ]
    },
    {
     "data": {
      "image/png": "[encoded data removed]",
      "text/plain": [
       "<matplotlib.figure.Figure at 0x7f478f925898>"
      ]
     },
     "metadata": {},
     "output_type": "display_data"
    },
    {
     "name": "stdout",
     "output_type": "stream",
     "text": [
      "\n",
      "\n",
      ">>> Test of a Proportion for ('Sex'='female'):\n",
      "\n",
      "    Null hypothesis: Proportion = 0.384\n",
      "    Alternative hypothesis: Proportion != 0.384\n",
      "\n",
      "These hypotheses constitute a two-tailed test. The significance level is 0.05.\n",
      "Sample have information about 314 passengers, 233 of whom survived.\n",
      "The region of acceptance is [0.341; 0.427]\n",
      "Since the sample proportion (0.742) is more than the region of acceptance,\n",
      "we cannot accept the null hypothesis at the 2.883213646207149e-61 level of significance.\n",
      "Conclusions:\n",
      "    This factor ('Sex'='female') was essential for survival. <<<\n",
      "\n",
      "\n",
      ">>> Test of a Proportion for ('Sex'='male'):\n",
      "\n",
      "    Null hypothesis: Proportion = 0.384\n",
      "    Alternative hypothesis: Proportion != 0.384\n",
      "\n",
      "These hypotheses constitute a two-tailed test. The significance level is 0.05.\n",
      "Sample have information about 577 passengers, 109 of whom survived.\n",
      "The region of acceptance is [0.360; 0.407]\n",
      "Since the sample proportion (0.189) is less than the region of acceptance,\n",
      "we cannot accept the null hypothesis at the 3.5925132664661606e-60 level of significance.\n",
      "Conclusions:\n",
      "    This factor ('Sex'='male') essentially influenced the likelihood to die. <<<\n"
     ]
    }
   ],
   "source": [
    "test_proportion(tmp)"
   ]
  },
  {
   "cell_type": "markdown",
   "metadata": {},
   "source": [
    "### Variable \"Embarked\" (Ports)\n",
    "\n",
    "Port of Embarkation (C = Cherbourg/France/; Q = Queenstown/Ireland/; S = Soutbhampton/United Kingdom/)\n",
    "\n",
    "Not all passengers specified \"Embarked\". Clean data."
   ]
  },
  {
   "cell_type": "code",
   "execution_count": 20,
   "metadata": {
    "collapsed": false
   },
   "outputs": [
    {
     "data": {
      "text/html": [
       "<div>\n",
       "<table border=\"1\" class=\"dataframe\">\n",
       "  <thead>\n",
       "    <tr style=\"text-align: right;\">\n",
       "      <th>Survival</th>\n",
       "      <th>Died</th>\n",
       "      <th>Survived</th>\n",
       "    </tr>\n",
       "    <tr>\n",
       "      <th>Ports</th>\n",
       "      <th></th>\n",
       "      <th></th>\n",
       "    </tr>\n",
       "  </thead>\n",
       "  <tbody>\n",
       "    <tr>\n",
       "      <th>Cherbourg</th>\n",
       "      <td>75</td>\n",
       "      <td>93</td>\n",
       "    </tr>\n",
       "    <tr>\n",
       "      <th>Queenstown</th>\n",
       "      <td>47</td>\n",
       "      <td>30</td>\n",
       "    </tr>\n",
       "    <tr>\n",
       "      <th>Southampton</th>\n",
       "      <td>427</td>\n",
       "      <td>217</td>\n",
       "    </tr>\n",
       "  </tbody>\n",
       "</table>\n",
       "</div>"
      ],
      "text/plain": [
       "Survival     Died  Survived\n",
       "Ports                      \n",
       "Cherbourg      75        93\n",
       "Queenstown     47        30\n",
       "Southampton   427       217"
      ]
     },
     "metadata": {},
     "output_type": "display_data"
    }
   ],
   "source": [
    "tmp = pivot(titanic[titanic.Ports.notnull()], ['Ports'], ['Survival'])\n",
    "display(tmp)"
   ]
  },
  {
   "cell_type": "code",
   "execution_count": 21,
   "metadata": {
    "collapsed": false
   },
   "outputs": [
    {
     "name": "stdout",
     "output_type": "stream",
     "text": [
      ">>> Chi-Squared Test on \"Ports\" to \"Survival\":\n",
      "\n",
      "    Null hypothesis:  Variable \"Ports\" and Variable \"Survival\" are independent.\n",
      "    Alternative hypothesis:  Variable \"Ports\" and Variable \"Survival\" are not independent.\n",
      "\n",
      "These hypotheses constitute a one-tailed test. The significance level is 0.05.\n",
      "Statistic = 26.48914983923762\n",
      "Since the p-value (1.769922284120912e-06) is less than the significance level (0.05),\n",
      "we cannot accept the null hypothesis.\n",
      "Conclusion:\n",
      "    There is a relationship between Variable \"Ports\" and Variable \"Survival.\" <<<\n"
     ]
    }
   ],
   "source": [
    "test_chisquare(tmp)"
   ]
  },
  {
   "cell_type": "code",
   "execution_count": 22,
   "metadata": {
    "collapsed": false
   },
   "outputs": [
    {
     "name": "stdout",
     "output_type": "stream",
     "text": [
      "\n",
      "Proportions for 'Ports'\n"
     ]
    },
    {
     "data": {
      "image/png": "[encoded data removed]",
      "text/plain": [
       "<matplotlib.figure.Figure at 0x7f478f8bdb70>"
      ]
     },
     "metadata": {},
     "output_type": "display_data"
    },
    {
     "name": "stdout",
     "output_type": "stream",
     "text": [
      "\n",
      "\n",
      ">>> Test of a Proportion for ('Ports'='Cherbourg'):\n",
      "\n",
      "    Null hypothesis: Proportion = 0.384\n",
      "    Alternative hypothesis: Proportion != 0.384\n",
      "\n",
      "These hypotheses constitute a two-tailed test. The significance level is 0.05.\n",
      "Sample have information about 168 passengers, 93 of whom survived.\n",
      "The region of acceptance is [0.315; 0.452]\n",
      "Since the sample proportion (0.554) is more than the region of acceptance,\n",
      "we cannot accept the null hypothesis at the 2.225890759874367e-07 level of significance.\n",
      "Conclusions:\n",
      "    This factor ('Ports'='Cherbourg') was essential for survival. <<<\n",
      "\n",
      "\n",
      ">>> Test of a Proportion for ('Ports'='Queenstown'):\n",
      "\n",
      "    Null hypothesis: Proportion = 0.384\n",
      "    Alternative hypothesis: Proportion != 0.384\n",
      "\n",
      "These hypotheses constitute a two-tailed test. The significance level is 0.05.\n",
      "Sample have information about 77 passengers, 30 of whom survived.\n",
      "The region of acceptance is [0.286; 0.494]\n",
      "Since the sample proportion (0.390) is within the region of acceptance,\n",
      "we cannot reject the null hypothesis. <<<\n",
      "\n",
      "\n",
      ">>> Test of a Proportion for ('Ports'='Southampton'):\n",
      "\n",
      "    Null hypothesis: Proportion = 0.384\n",
      "    Alternative hypothesis: Proportion != 0.384\n",
      "\n",
      "These hypotheses constitute a two-tailed test. The significance level is 0.05.\n",
      "Sample have information about 644 passengers, 217 of whom survived.\n",
      "The region of acceptance is [0.363; 0.404]\n",
      "Since the sample proportion (0.337) is less than the region of acceptance,\n",
      "we cannot accept the null hypothesis at the 2.8741923106674097e-06 level of significance.\n",
      "Conclusions:\n",
      "    This factor ('Ports'='Southampton') essentially influenced the likelihood to die. <<<\n"
     ]
    }
   ],
   "source": [
    "test_proportion(tmp)"
   ]
  },
  {
   "cell_type": "markdown",
   "metadata": {},
   "source": [
    "### Variable \"Age\"\n",
    "\n",
    "In the words of the [Kaggle website](https://www.kaggle.com/c/titanic/data):\n",
    "\n",
    "> Age is in Years; Fractional if Age less than One (1). If the Age is Estimated, it is in the form xx.5."
   ]
  },
  {
   "cell_type": "markdown",
   "metadata": {},
   "source": [
    "Not all passengers specified age. Clean data and divide into age category size ten years."
   ]
  },
  {
   "cell_type": "code",
   "execution_count": 23,
   "metadata": {
    "collapsed": false
   },
   "outputs": [
    {
     "data": {
      "text/html": [
       "<div>\n",
       "<table border=\"1\" class=\"dataframe\">\n",
       "  <thead>\n",
       "    <tr style=\"text-align: right;\">\n",
       "      <th></th>\n",
       "      <th>0</th>\n",
       "      <th>1</th>\n",
       "      <th>2</th>\n",
       "      <th>3</th>\n",
       "      <th>4</th>\n",
       "    </tr>\n",
       "  </thead>\n",
       "  <tbody>\n",
       "    <tr>\n",
       "      <th>Survived</th>\n",
       "      <td>0</td>\n",
       "      <td>1</td>\n",
       "      <td>1</td>\n",
       "      <td>1</td>\n",
       "      <td>0</td>\n",
       "    </tr>\n",
       "    <tr>\n",
       "      <th>Pclass</th>\n",
       "      <td>3</td>\n",
       "      <td>1</td>\n",
       "      <td>3</td>\n",
       "      <td>1</td>\n",
       "      <td>3</td>\n",
       "    </tr>\n",
       "    <tr>\n",
       "      <th>Sex</th>\n",
       "      <td>male</td>\n",
       "      <td>female</td>\n",
       "      <td>female</td>\n",
       "      <td>female</td>\n",
       "      <td>male</td>\n",
       "    </tr>\n",
       "    <tr>\n",
       "      <th>Age</th>\n",
       "      <td>22</td>\n",
       "      <td>38</td>\n",
       "      <td>26</td>\n",
       "      <td>35</td>\n",
       "      <td>35</td>\n",
       "    </tr>\n",
       "    <tr>\n",
       "      <th>SibSp</th>\n",
       "      <td>1</td>\n",
       "      <td>1</td>\n",
       "      <td>0</td>\n",
       "      <td>1</td>\n",
       "      <td>0</td>\n",
       "    </tr>\n",
       "    <tr>\n",
       "      <th>Parch</th>\n",
       "      <td>0</td>\n",
       "      <td>0</td>\n",
       "      <td>0</td>\n",
       "      <td>0</td>\n",
       "      <td>0</td>\n",
       "    </tr>\n",
       "    <tr>\n",
       "      <th>Ticket</th>\n",
       "      <td>A/5 21171</td>\n",
       "      <td>PC 17599</td>\n",
       "      <td>STON/O2. 3101282</td>\n",
       "      <td>113803</td>\n",
       "      <td>373450</td>\n",
       "    </tr>\n",
       "    <tr>\n",
       "      <th>Fare</th>\n",
       "      <td>7.25</td>\n",
       "      <td>71.2833</td>\n",
       "      <td>7.925</td>\n",
       "      <td>53.1</td>\n",
       "      <td>8.05</td>\n",
       "    </tr>\n",
       "    <tr>\n",
       "      <th>Cabin</th>\n",
       "      <td>NaN</td>\n",
       "      <td>C85</td>\n",
       "      <td>NaN</td>\n",
       "      <td>C123</td>\n",
       "      <td>NaN</td>\n",
       "    </tr>\n",
       "    <tr>\n",
       "      <th>Embarked</th>\n",
       "      <td>S</td>\n",
       "      <td>C</td>\n",
       "      <td>S</td>\n",
       "      <td>S</td>\n",
       "      <td>S</td>\n",
       "    </tr>\n",
       "    <tr>\n",
       "      <th>Passenger Counts</th>\n",
       "      <td>1</td>\n",
       "      <td>1</td>\n",
       "      <td>1</td>\n",
       "      <td>1</td>\n",
       "      <td>1</td>\n",
       "    </tr>\n",
       "    <tr>\n",
       "      <th>Survival</th>\n",
       "      <td>Died</td>\n",
       "      <td>Survived</td>\n",
       "      <td>Survived</td>\n",
       "      <td>Survived</td>\n",
       "      <td>Died</td>\n",
       "    </tr>\n",
       "    <tr>\n",
       "      <th>Class</th>\n",
       "      <td>Third Class</td>\n",
       "      <td>First Class</td>\n",
       "      <td>Third Class</td>\n",
       "      <td>First Class</td>\n",
       "      <td>Third Class</td>\n",
       "    </tr>\n",
       "    <tr>\n",
       "      <th>Ports</th>\n",
       "      <td>Southampton</td>\n",
       "      <td>Cherbourg</td>\n",
       "      <td>Southampton</td>\n",
       "      <td>Southampton</td>\n",
       "      <td>Southampton</td>\n",
       "    </tr>\n",
       "    <tr>\n",
       "      <th>Decades</th>\n",
       "      <td>[20, 30)</td>\n",
       "      <td>[30, 40)</td>\n",
       "      <td>[20, 30)</td>\n",
       "      <td>[30, 40)</td>\n",
       "      <td>[30, 40)</td>\n",
       "    </tr>\n",
       "  </tbody>\n",
       "</table>\n",
       "</div>"
      ],
      "text/plain": [
       "                            0            1                 2            3  \\\n",
       "Survived                    0            1                 1            1   \n",
       "Pclass                      3            1                 3            1   \n",
       "Sex                      male       female            female       female   \n",
       "Age                        22           38                26           35   \n",
       "SibSp                       1            1                 0            1   \n",
       "Parch                       0            0                 0            0   \n",
       "Ticket              A/5 21171     PC 17599  STON/O2. 3101282       113803   \n",
       "Fare                     7.25      71.2833             7.925         53.1   \n",
       "Cabin                     NaN          C85               NaN         C123   \n",
       "Embarked                    S            C                 S            S   \n",
       "Passenger Counts            1            1                 1            1   \n",
       "Survival                 Died     Survived          Survived     Survived   \n",
       "Class             Third Class  First Class       Third Class  First Class   \n",
       "Ports             Southampton    Cherbourg       Southampton  Southampton   \n",
       "Decades              [20, 30)     [30, 40)          [20, 30)     [30, 40)   \n",
       "\n",
       "                            4  \n",
       "Survived                    0  \n",
       "Pclass                      3  \n",
       "Sex                      male  \n",
       "Age                        35  \n",
       "SibSp                       0  \n",
       "Parch                       0  \n",
       "Ticket                 373450  \n",
       "Fare                     8.05  \n",
       "Cabin                     NaN  \n",
       "Embarked                    S  \n",
       "Passenger Counts            1  \n",
       "Survival                 Died  \n",
       "Class             Third Class  \n",
       "Ports             Southampton  \n",
       "Decades              [30, 40)  "
      ]
     },
     "metadata": {},
     "output_type": "display_data"
    }
   ],
   "source": [
    "def age_intervals(number):\n",
    "    \"\"\" Clean data and divide into age category size ten years.\n",
    "    \"\"\"\n",
    "    if number > 0:\n",
    "        out = int(number / 10) * 10\n",
    "        return '[%s, %s)' % (str(out), str(out + 10))\n",
    "\n",
    "titanic['Decades'] = titanic.Age.apply(age_intervals)\n",
    "display(titanic[titanic.Age.notnull()].head().T)"
   ]
  },
  {
   "cell_type": "code",
   "execution_count": 24,
   "metadata": {
    "collapsed": false
   },
   "outputs": [
    {
     "data": {
      "text/html": [
       "<div>\n",
       "<table border=\"1\" class=\"dataframe\">\n",
       "  <thead>\n",
       "    <tr style=\"text-align: right;\">\n",
       "      <th>Survival</th>\n",
       "      <th>Died</th>\n",
       "      <th>Survived</th>\n",
       "    </tr>\n",
       "    <tr>\n",
       "      <th>Decades</th>\n",
       "      <th></th>\n",
       "      <th></th>\n",
       "    </tr>\n",
       "  </thead>\n",
       "  <tbody>\n",
       "    <tr>\n",
       "      <th>[0, 10)</th>\n",
       "      <td>24</td>\n",
       "      <td>38</td>\n",
       "    </tr>\n",
       "    <tr>\n",
       "      <th>[10, 20)</th>\n",
       "      <td>61</td>\n",
       "      <td>41</td>\n",
       "    </tr>\n",
       "    <tr>\n",
       "      <th>[20, 30)</th>\n",
       "      <td>143</td>\n",
       "      <td>77</td>\n",
       "    </tr>\n",
       "    <tr>\n",
       "      <th>[30, 40)</th>\n",
       "      <td>94</td>\n",
       "      <td>73</td>\n",
       "    </tr>\n",
       "    <tr>\n",
       "      <th>[40, 50)</th>\n",
       "      <td>55</td>\n",
       "      <td>34</td>\n",
       "    </tr>\n",
       "    <tr>\n",
       "      <th>[50, 60)</th>\n",
       "      <td>28</td>\n",
       "      <td>20</td>\n",
       "    </tr>\n",
       "    <tr>\n",
       "      <th>[60, 70)</th>\n",
       "      <td>13</td>\n",
       "      <td>6</td>\n",
       "    </tr>\n",
       "    <tr>\n",
       "      <th>[70, 80)</th>\n",
       "      <td>6</td>\n",
       "      <td>0</td>\n",
       "    </tr>\n",
       "    <tr>\n",
       "      <th>[80, 90)</th>\n",
       "      <td>0</td>\n",
       "      <td>1</td>\n",
       "    </tr>\n",
       "  </tbody>\n",
       "</table>\n",
       "</div>"
      ],
      "text/plain": [
       "Survival  Died  Survived\n",
       "Decades                 \n",
       "[0, 10)     24        38\n",
       "[10, 20)    61        41\n",
       "[20, 30)   143        77\n",
       "[30, 40)    94        73\n",
       "[40, 50)    55        34\n",
       "[50, 60)    28        20\n",
       "[60, 70)    13         6\n",
       "[70, 80)     6         0\n",
       "[80, 90)     0         1"
      ]
     },
     "metadata": {},
     "output_type": "display_data"
    }
   ],
   "source": [
    "tmp = pivot(titanic, ['Decades'], ['Survival'])\n",
    "display(tmp)"
   ]
  },
  {
   "cell_type": "code",
   "execution_count": 25,
   "metadata": {
    "collapsed": false
   },
   "outputs": [
    {
     "name": "stdout",
     "output_type": "stream",
     "text": [
      "The expected frequency count for each cell of the table is at least 5.\n",
      "Errors in Decades: \"[70, 80)\", \"[80, 90)\"\n"
     ]
    }
   ],
   "source": [
    "test_chisquare(tmp)"
   ]
  },
  {
   "cell_type": "code",
   "execution_count": 26,
   "metadata": {
    "collapsed": false
   },
   "outputs": [
    {
     "data": {
      "text/html": [
       "<div>\n",
       "<table border=\"1\" class=\"dataframe\">\n",
       "  <thead>\n",
       "    <tr style=\"text-align: right;\">\n",
       "      <th>Survival</th>\n",
       "      <th>Died</th>\n",
       "      <th>Survived</th>\n",
       "    </tr>\n",
       "    <tr>\n",
       "      <th>Decades</th>\n",
       "      <th></th>\n",
       "      <th></th>\n",
       "    </tr>\n",
       "  </thead>\n",
       "  <tbody>\n",
       "    <tr>\n",
       "      <th>[0, 10)</th>\n",
       "      <td>24</td>\n",
       "      <td>38</td>\n",
       "    </tr>\n",
       "    <tr>\n",
       "      <th>[10, 20)</th>\n",
       "      <td>61</td>\n",
       "      <td>41</td>\n",
       "    </tr>\n",
       "    <tr>\n",
       "      <th>[20, 30)</th>\n",
       "      <td>143</td>\n",
       "      <td>77</td>\n",
       "    </tr>\n",
       "    <tr>\n",
       "      <th>[30, 40)</th>\n",
       "      <td>94</td>\n",
       "      <td>73</td>\n",
       "    </tr>\n",
       "    <tr>\n",
       "      <th>[40, 50)</th>\n",
       "      <td>55</td>\n",
       "      <td>34</td>\n",
       "    </tr>\n",
       "    <tr>\n",
       "      <th>[50, 60)</th>\n",
       "      <td>28</td>\n",
       "      <td>20</td>\n",
       "    </tr>\n",
       "    <tr>\n",
       "      <th>[60, 70)</th>\n",
       "      <td>13</td>\n",
       "      <td>6</td>\n",
       "    </tr>\n",
       "  </tbody>\n",
       "</table>\n",
       "</div>"
      ],
      "text/plain": [
       "Survival  Died  Survived\n",
       "Decades                 \n",
       "[0, 10)     24        38\n",
       "[10, 20)    61        41\n",
       "[20, 30)   143        77\n",
       "[30, 40)    94        73\n",
       "[40, 50)    55        34\n",
       "[50, 60)    28        20\n",
       "[60, 70)    13         6"
      ]
     },
     "metadata": {},
     "output_type": "display_data"
    }
   ],
   "source": [
    "tmp = pivot(titanic[(titanic.Age.notnull()) & (titanic.Age < 70)], ['Decades'], ['Survival'])\n",
    "display(tmp)"
   ]
  },
  {
   "cell_type": "code",
   "execution_count": 27,
   "metadata": {
    "collapsed": false
   },
   "outputs": [
    {
     "name": "stdout",
     "output_type": "stream",
     "text": [
      ">>> Chi-Squared Test on \"Decades\" to \"Survival\":\n",
      "\n",
      "    Null hypothesis:  Variable \"Decades\" and Variable \"Survival\" are independent.\n",
      "    Alternative hypothesis:  Variable \"Decades\" and Variable \"Survival\" are not independent.\n",
      "\n",
      "These hypotheses constitute a one-tailed test. The significance level is 0.05.\n",
      "Statistic = 15.364963264565597\n",
      "Since the p-value (0.017600357025798832) is less than the significance level (0.05),\n",
      "we cannot accept the null hypothesis.\n",
      "Conclusion:\n",
      "    There is a relationship between Variable \"Decades\" and Variable \"Survival.\" <<<\n"
     ]
    }
   ],
   "source": [
    "test_chisquare(tmp)"
   ]
  },
  {
   "cell_type": "code",
   "execution_count": 28,
   "metadata": {
    "collapsed": false
   },
   "outputs": [
    {
     "name": "stdout",
     "output_type": "stream",
     "text": [
      "\n",
      "Proportions for 'Decades'\n"
     ]
    },
    {
     "data": {
      "image/png": "[encoded data removed]",
      "text/plain": [
       "<matplotlib.figure.Figure at 0x7f478f374898>"
      ]
     },
     "metadata": {},
     "output_type": "display_data"
    },
    {
     "name": "stdout",
     "output_type": "stream",
     "text": [
      "\n",
      "\n",
      ">>> Test of a Proportion for ('Decades'='[0, 10)'):\n",
      "\n",
      "    Null hypothesis: Proportion = 0.384\n",
      "    Alternative hypothesis: Proportion != 0.384\n",
      "\n",
      "These hypotheses constitute a two-tailed test. The significance level is 0.05.\n",
      "Sample have information about 62 passengers, 38 of whom survived.\n",
      "The region of acceptance is [0.274; 0.500]\n",
      "Since the sample proportion (0.613) is more than the region of acceptance,\n",
      "we cannot accept the null hypothesis at the 4.4720575420529034e-05 level of significance.\n",
      "Conclusions:\n",
      "    This factor ('Decades'='[0, 10)') was essential for survival. <<<\n",
      "\n",
      "\n",
      ">>> Test of a Proportion for ('Decades'='[10, 20)'):\n",
      "\n",
      "    Null hypothesis: Proportion = 0.384\n",
      "    Alternative hypothesis: Proportion != 0.384\n",
      "\n",
      "These hypotheses constitute a two-tailed test. The significance level is 0.05.\n",
      "Sample have information about 102 passengers, 41 of whom survived.\n",
      "The region of acceptance is [0.294; 0.471]\n",
      "Since the sample proportion (0.402) is within the region of acceptance,\n",
      "we cannot reject the null hypothesis. <<<\n",
      "\n",
      "\n",
      ">>> Test of a Proportion for ('Decades'='[20, 30)'):\n",
      "\n",
      "    Null hypothesis: Proportion = 0.384\n",
      "    Alternative hypothesis: Proportion != 0.384\n",
      "\n",
      "These hypotheses constitute a two-tailed test. The significance level is 0.05.\n",
      "Sample have information about 220 passengers, 77 of whom survived.\n",
      "The region of acceptance is [0.327; 0.441]\n",
      "Since the sample proportion (0.350) is within the region of acceptance,\n",
      "we cannot reject the null hypothesis. <<<\n",
      "\n",
      "\n",
      ">>> Test of a Proportion for ('Decades'='[30, 40)'):\n",
      "\n",
      "    Null hypothesis: Proportion = 0.384\n",
      "    Alternative hypothesis: Proportion != 0.384\n",
      "\n",
      "These hypotheses constitute a two-tailed test. The significance level is 0.05.\n",
      "Sample have information about 167 passengers, 73 of whom survived.\n",
      "The region of acceptance is [0.317; 0.449]\n",
      "Since the sample proportion (0.437) is within the region of acceptance,\n",
      "we cannot reject the null hypothesis. <<<\n",
      "\n",
      "\n",
      ">>> Test of a Proportion for ('Decades'='[40, 50)'):\n",
      "\n",
      "    Null hypothesis: Proportion = 0.384\n",
      "    Alternative hypothesis: Proportion != 0.384\n",
      "\n",
      "These hypotheses constitute a two-tailed test. The significance level is 0.05.\n",
      "Sample have information about 89 passengers, 34 of whom survived.\n",
      "The region of acceptance is [0.292; 0.483]\n",
      "Since the sample proportion (0.382) is within the region of acceptance,\n",
      "we cannot reject the null hypothesis. <<<\n",
      "\n",
      "\n",
      ">>> Test of a Proportion for ('Decades'='[50, 60)'):\n",
      "\n",
      "    Null hypothesis: Proportion = 0.384\n",
      "    Alternative hypothesis: Proportion != 0.384\n",
      "\n",
      "These hypotheses constitute a two-tailed test. The significance level is 0.05.\n",
      "Sample have information about 48 passengers, 20 of whom survived.\n",
      "The region of acceptance is [0.250; 0.521]\n",
      "Since the sample proportion (0.417) is within the region of acceptance,\n",
      "we cannot reject the null hypothesis. <<<\n",
      "\n",
      "\n",
      ">>> Test of a Proportion for ('Decades'='[60, 70)'):\n",
      "\n",
      "    Null hypothesis: Proportion = 0.384\n",
      "    Alternative hypothesis: Proportion != 0.384\n",
      "\n",
      "These hypotheses constitute a two-tailed test. The significance level is 0.05.\n",
      "Sample have information about 19 passengers, 6 of whom survived.\n",
      "The region of acceptance is [0.158; 0.579]\n",
      "Since the sample proportion (0.316) is within the region of acceptance,\n",
      "we cannot reject the null hypothesis. <<<\n"
     ]
    }
   ],
   "source": [
    "test_proportion(tmp)"
   ]
  },
  {
   "cell_type": "markdown",
   "metadata": {},
   "source": [
    "### Variables \"SibSp\",  \"Parch\" and  \"Ticket\"\n",
    "\n",
    "In the words of the [Kaggle website](https://www.kaggle.com/c/titanic/data):\n",
    "\n",
    "> \n",
    "- sibsp - Number of Siblings/Spouses Aboard\n",
    "- parch - Number of Parents/Children Aboard\n",
    "- ticket - Ticket Number\n",
    "> \n",
    "SPECIAL NOTES:\n",
    "> \n",
    "With respect to the family relation variables (i.e. sibsp and parch)\n",
    "some relations were ignored.  The following are the definitions used\n",
    "for sibsp and parch.\n",
    "> \n",
    "- Sibling:  Brother, Sister, Stepbrother, or Stepsister of Passenger Aboard Titanic\n",
    "- Spouse:   Husband or Wife of Passenger Aboard Titanic (Mistresses and Fiances Ignored)\n",
    "- Parent:   Mother or Father of Passenger Aboard Titanic\n",
    "- Child:    Son, Daughter, Stepson, or Stepdaughter of Passenger Aboard Titanic\n",
    ">\n",
    "Other family relatives excluded from this study include cousins,\n",
    "nephews/nieces, aunts/uncles, and in-laws.  Some children travelled\n",
    "only with a nanny, therefore parch=0 for them.  As well, some\n",
    "travelled with very close friends or neighbors in a village, however,\n",
    "the definitions do not support such relations.\n",
    "> "
   ]
  },
  {
   "cell_type": "markdown",
   "metadata": {},
   "source": [
    "Let's count the number of family members per passenger."
   ]
  },
  {
   "cell_type": "code",
   "execution_count": 29,
   "metadata": {
    "collapsed": false
   },
   "outputs": [
    {
     "name": "stdout",
     "output_type": "stream",
     "text": [
      "The number of passengers traveling with family members: 354\n"
     ]
    }
   ],
   "source": [
    "titanic.loc[:, 'Family'] = titanic.SibSp + titanic.Parch + 1\n",
    "print('The number of passengers traveling with family members:', len(titanic[titanic.Family > 1]))"
   ]
  },
  {
   "cell_type": "markdown",
   "metadata": {},
   "source": [
    "As shown above, the number of different tickets is equal to 681, which is less than the number of passengers so that some passengers may use the one ticket for this trip and we will call them followers."
   ]
  },
  {
   "cell_type": "code",
   "execution_count": 30,
   "metadata": {
    "collapsed": false
   },
   "outputs": [
    {
     "name": "stdout",
     "output_type": "stream",
     "text": [
      "The number of passengers traveling with follower: 344\n"
     ]
    }
   ],
   "source": [
    "followers =  titanic[['Ticket', 'Passenger Counts']].groupby(['Ticket']).count()\n",
    "for i in range(len(titanic)):\n",
    "    titanic.loc[i, 'Follower'] = followers.ix[titanic.loc[i, 'Ticket']]['Passenger Counts']\n",
    "\n",
    "print('The number of passengers traveling with follower:', len(titanic[titanic.Follower > 1]))"
   ]
  },
  {
   "cell_type": "markdown",
   "metadata": {},
   "source": [
    "Let's unite the passengers in the group."
   ]
  },
  {
   "cell_type": "code",
   "execution_count": 31,
   "metadata": {
    "collapsed": false
   },
   "outputs": [
    {
     "name": "stdout",
     "output_type": "stream",
     "text": [
      "The number of passengers traveling in one group: 429\n"
     ]
    }
   ],
   "source": [
    "titanic.loc[:, 'Group'] = np.int64(np.maximum(titanic.Family, titanic.Follower))\n",
    "print('The number of passengers traveling in one group:', len(titanic[titanic.Group > 1]))"
   ]
  },
  {
   "cell_type": "code",
   "execution_count": 32,
   "metadata": {
    "collapsed": false
   },
   "outputs": [
    {
     "data": {
      "text/html": [
       "<div>\n",
       "<table border=\"1\" class=\"dataframe\">\n",
       "  <thead>\n",
       "    <tr style=\"text-align: right;\">\n",
       "      <th></th>\n",
       "      <th>0</th>\n",
       "      <th>1</th>\n",
       "      <th>3</th>\n",
       "      <th>7</th>\n",
       "      <th>8</th>\n",
       "    </tr>\n",
       "  </thead>\n",
       "  <tbody>\n",
       "    <tr>\n",
       "      <th>Survived</th>\n",
       "      <td>0</td>\n",
       "      <td>1</td>\n",
       "      <td>1</td>\n",
       "      <td>0</td>\n",
       "      <td>1</td>\n",
       "    </tr>\n",
       "    <tr>\n",
       "      <th>Pclass</th>\n",
       "      <td>3</td>\n",
       "      <td>1</td>\n",
       "      <td>1</td>\n",
       "      <td>3</td>\n",
       "      <td>3</td>\n",
       "    </tr>\n",
       "    <tr>\n",
       "      <th>Sex</th>\n",
       "      <td>male</td>\n",
       "      <td>female</td>\n",
       "      <td>female</td>\n",
       "      <td>male</td>\n",
       "      <td>female</td>\n",
       "    </tr>\n",
       "    <tr>\n",
       "      <th>Age</th>\n",
       "      <td>22</td>\n",
       "      <td>38</td>\n",
       "      <td>35</td>\n",
       "      <td>2</td>\n",
       "      <td>27</td>\n",
       "    </tr>\n",
       "    <tr>\n",
       "      <th>SibSp</th>\n",
       "      <td>1</td>\n",
       "      <td>1</td>\n",
       "      <td>1</td>\n",
       "      <td>3</td>\n",
       "      <td>0</td>\n",
       "    </tr>\n",
       "    <tr>\n",
       "      <th>Parch</th>\n",
       "      <td>0</td>\n",
       "      <td>0</td>\n",
       "      <td>0</td>\n",
       "      <td>1</td>\n",
       "      <td>2</td>\n",
       "    </tr>\n",
       "    <tr>\n",
       "      <th>Ticket</th>\n",
       "      <td>A/5 21171</td>\n",
       "      <td>PC 17599</td>\n",
       "      <td>113803</td>\n",
       "      <td>349909</td>\n",
       "      <td>347742</td>\n",
       "    </tr>\n",
       "    <tr>\n",
       "      <th>Fare</th>\n",
       "      <td>7.25</td>\n",
       "      <td>71.2833</td>\n",
       "      <td>53.1</td>\n",
       "      <td>21.075</td>\n",
       "      <td>11.1333</td>\n",
       "    </tr>\n",
       "    <tr>\n",
       "      <th>Cabin</th>\n",
       "      <td>NaN</td>\n",
       "      <td>C85</td>\n",
       "      <td>C123</td>\n",
       "      <td>NaN</td>\n",
       "      <td>NaN</td>\n",
       "    </tr>\n",
       "    <tr>\n",
       "      <th>Embarked</th>\n",
       "      <td>S</td>\n",
       "      <td>C</td>\n",
       "      <td>S</td>\n",
       "      <td>S</td>\n",
       "      <td>S</td>\n",
       "    </tr>\n",
       "    <tr>\n",
       "      <th>Passenger Counts</th>\n",
       "      <td>1</td>\n",
       "      <td>1</td>\n",
       "      <td>1</td>\n",
       "      <td>1</td>\n",
       "      <td>1</td>\n",
       "    </tr>\n",
       "    <tr>\n",
       "      <th>Survival</th>\n",
       "      <td>Died</td>\n",
       "      <td>Survived</td>\n",
       "      <td>Survived</td>\n",
       "      <td>Died</td>\n",
       "      <td>Survived</td>\n",
       "    </tr>\n",
       "    <tr>\n",
       "      <th>Class</th>\n",
       "      <td>Third Class</td>\n",
       "      <td>First Class</td>\n",
       "      <td>First Class</td>\n",
       "      <td>Third Class</td>\n",
       "      <td>Third Class</td>\n",
       "    </tr>\n",
       "    <tr>\n",
       "      <th>Ports</th>\n",
       "      <td>Southampton</td>\n",
       "      <td>Cherbourg</td>\n",
       "      <td>Southampton</td>\n",
       "      <td>Southampton</td>\n",
       "      <td>Southampton</td>\n",
       "    </tr>\n",
       "    <tr>\n",
       "      <th>Decades</th>\n",
       "      <td>[20, 30)</td>\n",
       "      <td>[30, 40)</td>\n",
       "      <td>[30, 40)</td>\n",
       "      <td>[0, 10)</td>\n",
       "      <td>[20, 30)</td>\n",
       "    </tr>\n",
       "    <tr>\n",
       "      <th>Family</th>\n",
       "      <td>2</td>\n",
       "      <td>2</td>\n",
       "      <td>2</td>\n",
       "      <td>5</td>\n",
       "      <td>3</td>\n",
       "    </tr>\n",
       "    <tr>\n",
       "      <th>Follower</th>\n",
       "      <td>1</td>\n",
       "      <td>1</td>\n",
       "      <td>2</td>\n",
       "      <td>4</td>\n",
       "      <td>3</td>\n",
       "    </tr>\n",
       "    <tr>\n",
       "      <th>Group</th>\n",
       "      <td>2</td>\n",
       "      <td>2</td>\n",
       "      <td>2</td>\n",
       "      <td>5</td>\n",
       "      <td>3</td>\n",
       "    </tr>\n",
       "  </tbody>\n",
       "</table>\n",
       "</div>"
      ],
      "text/plain": [
       "                            0            1            3            7  \\\n",
       "Survived                    0            1            1            0   \n",
       "Pclass                      3            1            1            3   \n",
       "Sex                      male       female       female         male   \n",
       "Age                        22           38           35            2   \n",
       "SibSp                       1            1            1            3   \n",
       "Parch                       0            0            0            1   \n",
       "Ticket              A/5 21171     PC 17599       113803       349909   \n",
       "Fare                     7.25      71.2833         53.1       21.075   \n",
       "Cabin                     NaN          C85         C123          NaN   \n",
       "Embarked                    S            C            S            S   \n",
       "Passenger Counts            1            1            1            1   \n",
       "Survival                 Died     Survived     Survived         Died   \n",
       "Class             Third Class  First Class  First Class  Third Class   \n",
       "Ports             Southampton    Cherbourg  Southampton  Southampton   \n",
       "Decades              [20, 30)     [30, 40)     [30, 40)      [0, 10)   \n",
       "Family                      2            2            2            5   \n",
       "Follower                    1            1            2            4   \n",
       "Group                       2            2            2            5   \n",
       "\n",
       "                            8  \n",
       "Survived                    1  \n",
       "Pclass                      3  \n",
       "Sex                    female  \n",
       "Age                        27  \n",
       "SibSp                       0  \n",
       "Parch                       2  \n",
       "Ticket                 347742  \n",
       "Fare                  11.1333  \n",
       "Cabin                     NaN  \n",
       "Embarked                    S  \n",
       "Passenger Counts            1  \n",
       "Survival             Survived  \n",
       "Class             Third Class  \n",
       "Ports             Southampton  \n",
       "Decades              [20, 30)  \n",
       "Family                      3  \n",
       "Follower                    3  \n",
       "Group                       3  "
      ]
     },
     "metadata": {},
     "output_type": "display_data"
    }
   ],
   "source": [
    "display(titanic[titanic.Group > 1].head().T)"
   ]
  },
  {
   "cell_type": "code",
   "execution_count": 33,
   "metadata": {
    "collapsed": false
   },
   "outputs": [
    {
     "data": {
      "text/html": [
       "<div>\n",
       "<table border=\"1\" class=\"dataframe\">\n",
       "  <thead>\n",
       "    <tr style=\"text-align: right;\">\n",
       "      <th>Survival</th>\n",
       "      <th>Died</th>\n",
       "      <th>Survived</th>\n",
       "    </tr>\n",
       "    <tr>\n",
       "      <th>Group</th>\n",
       "      <th></th>\n",
       "      <th></th>\n",
       "    </tr>\n",
       "  </thead>\n",
       "  <tbody>\n",
       "    <tr>\n",
       "      <th>1</th>\n",
       "      <td>337</td>\n",
       "      <td>125</td>\n",
       "    </tr>\n",
       "    <tr>\n",
       "      <th>2</th>\n",
       "      <td>93</td>\n",
       "      <td>92</td>\n",
       "    </tr>\n",
       "    <tr>\n",
       "      <th>3</th>\n",
       "      <td>47</td>\n",
       "      <td>81</td>\n",
       "    </tr>\n",
       "    <tr>\n",
       "      <th>4</th>\n",
       "      <td>13</td>\n",
       "      <td>29</td>\n",
       "    </tr>\n",
       "    <tr>\n",
       "      <th>5</th>\n",
       "      <td>17</td>\n",
       "      <td>3</td>\n",
       "    </tr>\n",
       "    <tr>\n",
       "      <th>6</th>\n",
       "      <td>19</td>\n",
       "      <td>3</td>\n",
       "    </tr>\n",
       "    <tr>\n",
       "      <th>7</th>\n",
       "      <td>10</td>\n",
       "      <td>9</td>\n",
       "    </tr>\n",
       "    <tr>\n",
       "      <th>8</th>\n",
       "      <td>6</td>\n",
       "      <td>0</td>\n",
       "    </tr>\n",
       "    <tr>\n",
       "      <th>11</th>\n",
       "      <td>7</td>\n",
       "      <td>0</td>\n",
       "    </tr>\n",
       "  </tbody>\n",
       "</table>\n",
       "</div>"
      ],
      "text/plain": [
       "Survival  Died  Survived\n",
       "Group                   \n",
       "1          337       125\n",
       "2           93        92\n",
       "3           47        81\n",
       "4           13        29\n",
       "5           17         3\n",
       "6           19         3\n",
       "7           10         9\n",
       "8            6         0\n",
       "11           7         0"
      ]
     },
     "metadata": {},
     "output_type": "display_data"
    }
   ],
   "source": [
    "tmp = pivot(titanic, ['Group'], ['Survival'])\n",
    "display(tmp)"
   ]
  },
  {
   "cell_type": "code",
   "execution_count": 34,
   "metadata": {
    "collapsed": false
   },
   "outputs": [
    {
     "name": "stdout",
     "output_type": "stream",
     "text": [
      "The expected frequency count for each cell of the table is at least 5.\n",
      "Errors in Group: \"5\", \"6\", \"8\", \"11\"\n"
     ]
    }
   ],
   "source": [
    "test_chisquare(tmp)"
   ]
  },
  {
   "cell_type": "code",
   "execution_count": 35,
   "metadata": {
    "collapsed": false
   },
   "outputs": [
    {
     "data": {
      "text/html": [
       "<div>\n",
       "<table border=\"1\" class=\"dataframe\">\n",
       "  <thead>\n",
       "    <tr style=\"text-align: right;\">\n",
       "      <th>Survival</th>\n",
       "      <th>Died</th>\n",
       "      <th>Survived</th>\n",
       "    </tr>\n",
       "    <tr>\n",
       "      <th>Group</th>\n",
       "      <th></th>\n",
       "      <th></th>\n",
       "    </tr>\n",
       "  </thead>\n",
       "  <tbody>\n",
       "    <tr>\n",
       "      <th>1</th>\n",
       "      <td>337</td>\n",
       "      <td>125</td>\n",
       "    </tr>\n",
       "    <tr>\n",
       "      <th>2</th>\n",
       "      <td>93</td>\n",
       "      <td>92</td>\n",
       "    </tr>\n",
       "    <tr>\n",
       "      <th>3</th>\n",
       "      <td>47</td>\n",
       "      <td>81</td>\n",
       "    </tr>\n",
       "    <tr>\n",
       "      <th>4</th>\n",
       "      <td>13</td>\n",
       "      <td>29</td>\n",
       "    </tr>\n",
       "    <tr>\n",
       "      <th>7</th>\n",
       "      <td>10</td>\n",
       "      <td>9</td>\n",
       "    </tr>\n",
       "  </tbody>\n",
       "</table>\n",
       "</div>"
      ],
      "text/plain": [
       "Survival  Died  Survived\n",
       "Group                   \n",
       "1          337       125\n",
       "2           93        92\n",
       "3           47        81\n",
       "4           13        29\n",
       "7           10         9"
      ]
     },
     "metadata": {},
     "output_type": "display_data"
    },
    {
     "name": "stdout",
     "output_type": "stream",
     "text": [
      ">>> Chi-Squared Test on \"Group\" to \"Survival\":\n",
      "\n",
      "    Null hypothesis:  Variable \"Group\" and Variable \"Survival\" are independent.\n",
      "    Alternative hypothesis:  Variable \"Group\" and Variable \"Survival\" are not independent.\n",
      "\n",
      "These hypotheses constitute a one-tailed test. The significance level is 0.05.\n",
      "Statistic = 83.50731977328093\n",
      "Since the p-value (3.1447723329088524e-17) is less than the significance level (0.05),\n",
      "we cannot accept the null hypothesis.\n",
      "Conclusion:\n",
      "    There is a relationship between Variable \"Group\" and Variable \"Survival.\" <<<\n"
     ]
    }
   ],
   "source": [
    "tmp = tmp.drop([5, 6, 8, 11])\n",
    "display(tmp)\n",
    "test_chisquare(tmp)"
   ]
  },
  {
   "cell_type": "code",
   "execution_count": 36,
   "metadata": {
    "collapsed": false
   },
   "outputs": [
    {
     "name": "stdout",
     "output_type": "stream",
     "text": [
      "\n",
      "Proportions for 'Group'\n"
     ]
    },
    {
     "data": {
      "image/png": "[encoded data removed]",
      "text/plain": [
       "<matplotlib.figure.Figure at 0x7f478fb2de10>"
      ]
     },
     "metadata": {},
     "output_type": "display_data"
    },
    {
     "name": "stdout",
     "output_type": "stream",
     "text": [
      "\n",
      "\n",
      ">>> Test of a Proportion for ('Group'='1'):\n",
      "\n",
      "    Null hypothesis: Proportion = 0.384\n",
      "    Alternative hypothesis: Proportion != 0.384\n",
      "\n",
      "These hypotheses constitute a two-tailed test. The significance level is 0.05.\n",
      "Sample have information about 462 passengers, 125 of whom survived.\n",
      "The region of acceptance is [0.353; 0.416]\n",
      "Since the sample proportion (0.271) is less than the region of acceptance,\n",
      "we cannot accept the null hypothesis at the 3.532233265194933e-13 level of significance.\n",
      "Conclusions:\n",
      "    This factor ('Group'='1') essentially influenced the likelihood to die. <<<\n",
      "\n",
      "\n",
      ">>> Test of a Proportion for ('Group'='2'):\n",
      "\n",
      "    Null hypothesis: Proportion = 0.384\n",
      "    Alternative hypothesis: Proportion != 0.384\n",
      "\n",
      "These hypotheses constitute a two-tailed test. The significance level is 0.05.\n",
      "Sample have information about 185 passengers, 92 of whom survived.\n",
      "The region of acceptance is [0.324; 0.449]\n",
      "Since the sample proportion (0.497) is more than the region of acceptance,\n",
      "we cannot accept the null hypothesis at the 0.0001492182703954442 level of significance.\n",
      "Conclusions:\n",
      "    This factor ('Group'='2') was essential for survival. <<<\n",
      "\n",
      "\n",
      ">>> Test of a Proportion for ('Group'='3'):\n",
      "\n",
      "    Null hypothesis: Proportion = 0.384\n",
      "    Alternative hypothesis: Proportion != 0.384\n",
      "\n",
      "These hypotheses constitute a two-tailed test. The significance level is 0.05.\n",
      "Sample have information about 128 passengers, 81 of whom survived.\n",
      "The region of acceptance is [0.305; 0.461]\n",
      "Since the sample proportion (0.633) is more than the region of acceptance,\n",
      "we cannot accept the null hypothesis at the 1.8307238965545642e-10 level of significance.\n",
      "Conclusions:\n",
      "    This factor ('Group'='3') was essential for survival. <<<\n",
      "\n",
      "\n",
      ">>> Test of a Proportion for ('Group'='4'):\n",
      "\n",
      "    Null hypothesis: Proportion = 0.384\n",
      "    Alternative hypothesis: Proportion != 0.384\n",
      "\n",
      "These hypotheses constitute a two-tailed test. The significance level is 0.05.\n",
      "Sample have information about 42 passengers, 29 of whom survived.\n",
      "The region of acceptance is [0.238; 0.524]\n",
      "Since the sample proportion (0.690) is more than the region of acceptance,\n",
      "we cannot accept the null hypothesis at the 9.032364009459422e-06 level of significance.\n",
      "Conclusions:\n",
      "    This factor ('Group'='4') was essential for survival. <<<\n",
      "\n",
      "\n",
      ">>> Test of a Proportion for ('Group'='7'):\n",
      "\n",
      "    Null hypothesis: Proportion = 0.384\n",
      "    Alternative hypothesis: Proportion != 0.384\n",
      "\n",
      "These hypotheses constitute a two-tailed test. The significance level is 0.05.\n",
      "Sample have information about 19 passengers, 9 of whom survived.\n",
      "The region of acceptance is [0.158; 0.579]\n",
      "Since the sample proportion (0.474) is within the region of acceptance,\n",
      "we cannot reject the null hypothesis. <<<\n"
     ]
    }
   ],
   "source": [
    "test_proportion(tmp)"
   ]
  },
  {
   "cell_type": "markdown",
   "metadata": {},
   "source": [
    "### Variable \"Cabin\"\n",
    "\n",
    "Not all passengers specified \"Cabin\". Clean data and get the first letter for a deck."
   ]
  },
  {
   "cell_type": "code",
   "execution_count": 37,
   "metadata": {
    "collapsed": false
   },
   "outputs": [
    {
     "name": "stdout",
     "output_type": "stream",
     "text": [
      "['B51 B53 B55', 'B57 B59 B63 B66', 'B58 B60', 'B82 B84', 'B96 B98', 'C22 C26', 'C23 C25 C27', 'C62 C64', 'D10 D12', 'F E69', 'F G63', 'F G73']\n"
     ]
    }
   ],
   "source": [
    "cabin = titanic[titanic.Cabin.notnull()]\n",
    "print([x for x in sorted(cabin['Cabin'].unique()) if ' ' in x])"
   ]
  },
  {
   "cell_type": "markdown",
   "metadata": {},
   "source": [
    "Let's delete records with cabins 'F E69', 'F G63', 'F G73'."
   ]
  },
  {
   "cell_type": "code",
   "execution_count": 38,
   "metadata": {
    "collapsed": false
   },
   "outputs": [
    {
     "name": "stdout",
     "output_type": "stream",
     "text": [
      "['B51 B53 B55', 'B57 B59 B63 B66', 'B58 B60', 'B82 B84', 'B96 B98', 'C22 C26', 'C23 C25 C27', 'C62 C64', 'D10 D12']\n"
     ]
    }
   ],
   "source": [
    "todelete = cabin[cabin.Cabin.str.startswith('F ')].index.tolist()\n",
    "cabin = cabin.drop(todelete)\n",
    "print([x for x in sorted(cabin['Cabin'].unique()) if ' ' in x])"
   ]
  },
  {
   "cell_type": "code",
   "execution_count": 39,
   "metadata": {
    "collapsed": false
   },
   "outputs": [
    {
     "data": {
      "text/html": [
       "<div>\n",
       "<table border=\"1\" class=\"dataframe\">\n",
       "  <thead>\n",
       "    <tr>\n",
       "      <th>Deck</th>\n",
       "      <th>A</th>\n",
       "      <th>B</th>\n",
       "      <th>C</th>\n",
       "      <th colspan=\"2\" halign=\"left\">D</th>\n",
       "      <th colspan=\"3\" halign=\"left\">E</th>\n",
       "      <th colspan=\"2\" halign=\"left\">F</th>\n",
       "      <th>G</th>\n",
       "      <th>T</th>\n",
       "    </tr>\n",
       "    <tr>\n",
       "      <th>Pclass</th>\n",
       "      <th>1</th>\n",
       "      <th>1</th>\n",
       "      <th>1</th>\n",
       "      <th>1</th>\n",
       "      <th>2</th>\n",
       "      <th>1</th>\n",
       "      <th>2</th>\n",
       "      <th>3</th>\n",
       "      <th>2</th>\n",
       "      <th>3</th>\n",
       "      <th>3</th>\n",
       "      <th>1</th>\n",
       "    </tr>\n",
       "  </thead>\n",
       "  <tbody>\n",
       "    <tr>\n",
       "      <th>Cabin</th>\n",
       "      <td>15</td>\n",
       "      <td>47</td>\n",
       "      <td>59</td>\n",
       "      <td>29</td>\n",
       "      <td>4</td>\n",
       "      <td>25</td>\n",
       "      <td>4</td>\n",
       "      <td>3</td>\n",
       "      <td>8</td>\n",
       "      <td>1</td>\n",
       "      <td>4</td>\n",
       "      <td>1</td>\n",
       "    </tr>\n",
       "  </tbody>\n",
       "</table>\n",
       "</div>"
      ],
      "text/plain": [
       "Deck     A   B   C   D      E        F     G  T\n",
       "Pclass   1   1   1   1  2   1  2  3  2  3  3  1\n",
       "Cabin   15  47  59  29  4  25  4  3  8  1  4  1"
      ]
     },
     "metadata": {},
     "output_type": "display_data"
    }
   ],
   "source": [
    "cabin['Deck'] = cabin.Cabin.str[0]\n",
    "display(cabin[['Cabin', 'Deck', 'Pclass']].groupby(['Deck', 'Pclass']).count().T)"
   ]
  },
  {
   "cell_type": "code",
   "execution_count": 40,
   "metadata": {
    "collapsed": false
   },
   "outputs": [
    {
     "data": {
      "text/html": [
       "<div>\n",
       "<table border=\"1\" class=\"dataframe\">\n",
       "  <thead>\n",
       "    <tr style=\"text-align: right;\">\n",
       "      <th>Survival</th>\n",
       "      <th>Died</th>\n",
       "      <th>Survived</th>\n",
       "    </tr>\n",
       "    <tr>\n",
       "      <th>Deck</th>\n",
       "      <th></th>\n",
       "      <th></th>\n",
       "    </tr>\n",
       "  </thead>\n",
       "  <tbody>\n",
       "    <tr>\n",
       "      <th>A</th>\n",
       "      <td>8</td>\n",
       "      <td>7</td>\n",
       "    </tr>\n",
       "    <tr>\n",
       "      <th>B</th>\n",
       "      <td>12</td>\n",
       "      <td>35</td>\n",
       "    </tr>\n",
       "    <tr>\n",
       "      <th>C</th>\n",
       "      <td>24</td>\n",
       "      <td>35</td>\n",
       "    </tr>\n",
       "    <tr>\n",
       "      <th>D</th>\n",
       "      <td>8</td>\n",
       "      <td>25</td>\n",
       "    </tr>\n",
       "    <tr>\n",
       "      <th>E</th>\n",
       "      <td>8</td>\n",
       "      <td>24</td>\n",
       "    </tr>\n",
       "    <tr>\n",
       "      <th>F</th>\n",
       "      <td>2</td>\n",
       "      <td>7</td>\n",
       "    </tr>\n",
       "    <tr>\n",
       "      <th>G</th>\n",
       "      <td>2</td>\n",
       "      <td>2</td>\n",
       "    </tr>\n",
       "    <tr>\n",
       "      <th>T</th>\n",
       "      <td>1</td>\n",
       "      <td>0</td>\n",
       "    </tr>\n",
       "  </tbody>\n",
       "</table>\n",
       "</div>"
      ],
      "text/plain": [
       "Survival  Died  Survived\n",
       "Deck                    \n",
       "A            8         7\n",
       "B           12        35\n",
       "C           24        35\n",
       "D            8        25\n",
       "E            8        24\n",
       "F            2         7\n",
       "G            2         2\n",
       "T            1         0"
      ]
     },
     "metadata": {},
     "output_type": "display_data"
    }
   ],
   "source": [
    "tmp = pivot(cabin, ['Deck'], ['Survival'])\n",
    "display(tmp)"
   ]
  },
  {
   "cell_type": "code",
   "execution_count": 41,
   "metadata": {
    "collapsed": false
   },
   "outputs": [
    {
     "name": "stdout",
     "output_type": "stream",
     "text": [
      "The expected frequency count for each cell of the table is at least 5.\n",
      "Errors in Deck: \"F\", \"G\", \"T\"\n"
     ]
    }
   ],
   "source": [
    "test_chisquare(tmp)"
   ]
  },
  {
   "cell_type": "code",
   "execution_count": 42,
   "metadata": {
    "collapsed": false
   },
   "outputs": [
    {
     "data": {
      "text/html": [
       "<div>\n",
       "<table border=\"1\" class=\"dataframe\">\n",
       "  <thead>\n",
       "    <tr style=\"text-align: right;\">\n",
       "      <th>Survival</th>\n",
       "      <th>Died</th>\n",
       "      <th>Survived</th>\n",
       "    </tr>\n",
       "    <tr>\n",
       "      <th>Deck</th>\n",
       "      <th></th>\n",
       "      <th></th>\n",
       "    </tr>\n",
       "  </thead>\n",
       "  <tbody>\n",
       "    <tr>\n",
       "      <th>A</th>\n",
       "      <td>8</td>\n",
       "      <td>7</td>\n",
       "    </tr>\n",
       "    <tr>\n",
       "      <th>B</th>\n",
       "      <td>12</td>\n",
       "      <td>35</td>\n",
       "    </tr>\n",
       "    <tr>\n",
       "      <th>C</th>\n",
       "      <td>24</td>\n",
       "      <td>35</td>\n",
       "    </tr>\n",
       "    <tr>\n",
       "      <th>D</th>\n",
       "      <td>8</td>\n",
       "      <td>25</td>\n",
       "    </tr>\n",
       "    <tr>\n",
       "      <th>E</th>\n",
       "      <td>8</td>\n",
       "      <td>24</td>\n",
       "    </tr>\n",
       "  </tbody>\n",
       "</table>\n",
       "</div>"
      ],
      "text/plain": [
       "Survival  Died  Survived\n",
       "Deck                    \n",
       "A            8         7\n",
       "B           12        35\n",
       "C           24        35\n",
       "D            8        25\n",
       "E            8        24"
      ]
     },
     "metadata": {},
     "output_type": "display_data"
    },
    {
     "name": "stdout",
     "output_type": "stream",
     "text": [
      ">>> Chi-Squared Test on \"Deck\" to \"Survival\":\n",
      "\n",
      "    Null hypothesis:  Variable \"Deck\" and Variable \"Survival\" are independent.\n",
      "    Alternative hypothesis:  Variable \"Deck\" and Variable \"Survival\" are not independent.\n",
      "\n",
      "These hypotheses constitute a one-tailed test. The significance level is 0.05.\n",
      "Statistic = 7.677765569767013\n",
      "Since the p-value (0.10412127844381484) is more than the significance level (0.05),\n",
      "we cannot reject the null hypothesis.\n",
      "Conclusion:\n",
      "    Variable \"Deck\" and Variable \"Survival\" are independent. <<<\n"
     ]
    }
   ],
   "source": [
    "tmp = tmp.drop([\"F\", \"G\", \"T\"])\n",
    "display(tmp)\n",
    "test_chisquare(tmp)"
   ]
  },
  {
   "cell_type": "code",
   "execution_count": 43,
   "metadata": {
    "collapsed": false
   },
   "outputs": [
    {
     "name": "stdout",
     "output_type": "stream",
     "text": [
      "\n",
      "Proportions for 'Deck'\n"
     ]
    },
    {
     "data": {
      "image/png": "[encoded data removed]",
      "text/plain": [
       "<matplotlib.figure.Figure at 0x7f478fbe51d0>"
      ]
     },
     "metadata": {},
     "output_type": "display_data"
    },
    {
     "name": "stdout",
     "output_type": "stream",
     "text": [
      "\n",
      "\n",
      ">>> Test of a Proportion for ('Deck'='A'):\n",
      "\n",
      "    Null hypothesis: Proportion = 0.384\n",
      "    Alternative hypothesis: Proportion != 0.384\n",
      "\n",
      "These hypotheses constitute a two-tailed test. The significance level is 0.05.\n",
      "Sample have information about 15 passengers, 7 of whom survived.\n",
      "The region of acceptance is [0.133; 0.600]\n",
      "Since the sample proportion (0.467) is within the region of acceptance,\n",
      "we cannot reject the null hypothesis. <<<\n",
      "\n",
      "\n",
      ">>> Test of a Proportion for ('Deck'='B'):\n",
      "\n",
      "    Null hypothesis: Proportion = 0.384\n",
      "    Alternative hypothesis: Proportion != 0.384\n",
      "\n",
      "These hypotheses constitute a two-tailed test. The significance level is 0.05.\n",
      "Sample have information about 47 passengers, 35 of whom survived.\n",
      "The region of acceptance is [0.255; 0.511]\n",
      "Since the sample proportion (0.745) is more than the region of acceptance,\n",
      "we cannot accept the null hypothesis at the 4.9950941058064776e-08 level of significance.\n",
      "Conclusions:\n",
      "    This factor ('Deck'='B') was essential for survival. <<<\n",
      "\n",
      "\n",
      ">>> Test of a Proportion for ('Deck'='C'):\n",
      "\n",
      "    Null hypothesis: Proportion = 0.384\n",
      "    Alternative hypothesis: Proportion != 0.384\n",
      "\n",
      "These hypotheses constitute a two-tailed test. The significance level is 0.05.\n",
      "Sample have information about 59 passengers, 35 of whom survived.\n",
      "The region of acceptance is [0.271; 0.508]\n",
      "Since the sample proportion (0.593) is more than the region of acceptance,\n",
      "we cannot accept the null hypothesis at the 0.00022785395957564188 level of significance.\n",
      "Conclusions:\n",
      "    This factor ('Deck'='C') was essential for survival. <<<\n",
      "\n",
      "\n",
      ">>> Test of a Proportion for ('Deck'='D'):\n",
      "\n",
      "    Null hypothesis: Proportion = 0.384\n",
      "    Alternative hypothesis: Proportion != 0.384\n",
      "\n",
      "These hypotheses constitute a two-tailed test. The significance level is 0.05.\n",
      "Sample have information about 33 passengers, 25 of whom survived.\n",
      "The region of acceptance is [0.212; 0.545]\n",
      "Since the sample proportion (0.758) is more than the region of acceptance,\n",
      "we cannot accept the null hypothesis at the 1.7204563699496718e-06 level of significance.\n",
      "Conclusions:\n",
      "    This factor ('Deck'='D') was essential for survival. <<<\n",
      "\n",
      "\n",
      ">>> Test of a Proportion for ('Deck'='E'):\n",
      "\n",
      "    Null hypothesis: Proportion = 0.384\n",
      "    Alternative hypothesis: Proportion != 0.384\n",
      "\n",
      "These hypotheses constitute a two-tailed test. The significance level is 0.05.\n",
      "Sample have information about 32 passengers, 24 of whom survived.\n",
      "The region of acceptance is [0.219; 0.562]\n",
      "Since the sample proportion (0.750) is more than the region of acceptance,\n",
      "we cannot accept the null hypothesis at the 3.698614626620073e-06 level of significance.\n",
      "Conclusions:\n",
      "    This factor ('Deck'='E') was essential for survival. <<<\n"
     ]
    }
   ],
   "source": [
    "test_proportion(tmp)"
   ]
  },
  {
   "cell_type": "markdown",
   "metadata": {},
   "source": [
    "### Variable \"Fare\"\n",
    "\n",
    "In the words of the [Kaggle website](https://www.kaggle.com/c/titanic/data):\n",
    "> Fare - Passenger Fare\n",
    "\n",
    "\n",
    "[Wikipedia](https://en.wikipedia.org/wiki/RMS_Titanic).\n",
    "> Fares varied depending on class and season. Third Class fares from London, Southampton, or Queenstown cost £7 5s (equivalent to £647 today) while the cheapest First Class fares cost £23 (£2,054 today)."
   ]
  },
  {
   "cell_type": "markdown",
   "metadata": {},
   "source": [
    "How life passenger depends on the price of the bought ticket?"
   ]
  },
  {
   "cell_type": "code",
   "execution_count": 44,
   "metadata": {
    "collapsed": true
   },
   "outputs": [],
   "source": [
    "# clear data\n",
    "fare = titanic[(titanic.Fare > 0)][['Survived', 'Fare']].sort_values(['Fare'])\n",
    "fare.index = range(len(fare))"
   ]
  },
  {
   "cell_type": "code",
   "execution_count": 45,
   "metadata": {
    "collapsed": false
   },
   "outputs": [],
   "source": [
    "# split fare for bind\n",
    "bins = 10\n",
    "binlen = (len(fare) + bins - 1) // bins\n",
    "fare['Bin'] = fare.index\n",
    "fare['Bin'] = fare.Bin.apply(lambda x: (x + binlen) // binlen)"
   ]
  },
  {
   "cell_type": "code",
   "execution_count": 46,
   "metadata": {
    "collapsed": false
   },
   "outputs": [
    {
     "data": {
      "text/html": [
       "<div>\n",
       "<table border=\"1\" class=\"dataframe\">\n",
       "  <thead>\n",
       "    <tr style=\"text-align: right;\">\n",
       "      <th>Bin</th>\n",
       "      <th>1</th>\n",
       "      <th>2</th>\n",
       "      <th>3</th>\n",
       "      <th>4</th>\n",
       "      <th>5</th>\n",
       "      <th>6</th>\n",
       "      <th>7</th>\n",
       "      <th>8</th>\n",
       "      <th>9</th>\n",
       "      <th>10</th>\n",
       "    </tr>\n",
       "  </thead>\n",
       "  <tbody>\n",
       "    <tr>\n",
       "      <th>Survived</th>\n",
       "      <td>0.170455</td>\n",
       "      <td>0.306818</td>\n",
       "      <td>0.159091</td>\n",
       "      <td>0.250000</td>\n",
       "      <td>0.386364</td>\n",
       "      <td>0.488636</td>\n",
       "      <td>0.465909</td>\n",
       "      <td>0.386364</td>\n",
       "      <td>0.545455</td>\n",
       "      <td>0.750000</td>\n",
       "    </tr>\n",
       "    <tr>\n",
       "      <th>Fare</th>\n",
       "      <td>7.159757</td>\n",
       "      <td>7.794274</td>\n",
       "      <td>7.968123</td>\n",
       "      <td>9.487309</td>\n",
       "      <td>13.169747</td>\n",
       "      <td>18.129495</td>\n",
       "      <td>25.923011</td>\n",
       "      <td>33.050426</td>\n",
       "      <td>60.921451</td>\n",
       "      <td>149.248013</td>\n",
       "    </tr>\n",
       "  </tbody>\n",
       "</table>\n",
       "</div>"
      ],
      "text/plain": [
       "Bin             1         2         3         4          5          6   \\\n",
       "Survived  0.170455  0.306818  0.159091  0.250000   0.386364   0.488636   \n",
       "Fare      7.159757  7.794274  7.968123  9.487309  13.169747  18.129495   \n",
       "\n",
       "Bin              7          8          9           10  \n",
       "Survived   0.465909   0.386364   0.545455    0.750000  \n",
       "Fare      25.923011  33.050426  60.921451  149.248013  "
      ]
     },
     "metadata": {},
     "output_type": "display_data"
    },
    {
     "data": {
      "image/png": "[encoded data removed]",
      "text/plain": [
       "<matplotlib.figure.Figure at 0x7f47921d5be0>"
      ]
     },
     "metadata": {},
     "output_type": "display_data"
    }
   ],
   "source": [
    "# plot\n",
    "t = fare.groupby(['Bin']).mean()\n",
    "display(t.T)\n",
    "plt.scatter(t['Fare'], t['Survived'])\n",
    "plt.xlabel('Mean fare')\n",
    "plt.ylabel('Survived')\n",
    "show()"
   ]
  },
  {
   "cell_type": "code",
   "execution_count": 47,
   "metadata": {
    "collapsed": false,
    "scrolled": true
   },
   "outputs": [
    {
     "name": "stdout",
     "output_type": "stream",
     "text": [
      "Correlation of columns\n"
     ]
    },
    {
     "data": {
      "text/html": [
       "<div>\n",
       "<table border=\"1\" class=\"dataframe\">\n",
       "  <thead>\n",
       "    <tr style=\"text-align: right;\">\n",
       "      <th></th>\n",
       "      <th>Survived</th>\n",
       "      <th>Fare</th>\n",
       "    </tr>\n",
       "  </thead>\n",
       "  <tbody>\n",
       "    <tr>\n",
       "      <th>Survived</th>\n",
       "      <td>1.000000</td>\n",
       "      <td>0.848488</td>\n",
       "    </tr>\n",
       "    <tr>\n",
       "      <th>Fare</th>\n",
       "      <td>0.848488</td>\n",
       "      <td>1.000000</td>\n",
       "    </tr>\n",
       "  </tbody>\n",
       "</table>\n",
       "</div>"
      ],
      "text/plain": [
       "          Survived      Fare\n",
       "Survived  1.000000  0.848488\n",
       "Fare      0.848488  1.000000"
      ]
     },
     "metadata": {},
     "output_type": "display_data"
    }
   ],
   "source": [
    "print('Correlation of columns')\n",
    "display(t.corr())"
   ]
  },
  {
   "cell_type": "markdown",
   "metadata": {},
   "source": [
    "**Conclusion:** The survival has the correlation with the fare."
   ]
  },
  {
   "cell_type": "markdown",
   "metadata": {},
   "source": [
    "## Conclusions\n",
    "\n",
    "From the above, we can get answers to our questions.\n",
    "\n",
    "### - What factors made people more likely or not to survive?\n",
    "\n",
    "There is a relationship between variable \"Survival\" and variables:\n",
    "- \"Class\" (Pclass)\n",
    "- \"Sex\"\n",
    "- \"Ports\" (Embarked)\n",
    "- \"Decades\" (Age)\n",
    "- \"Group\" (SibSp, Parch, Ticket)\n",
    "\n",
    "\n",
    "The factors that were essential for survival:\n",
    "- Class = 'First Class' or 'Second Class'\n",
    "- Sex = 'female'\n",
    "- Ports = 'Cherbourg'\n",
    "- Age in [0, 10)\n",
    "- Group = 2 or 3 or 4\n",
    "- Deck = 'B' or 'C' or 'D' or 'E'\n",
    "\n",
    "\n",
    "The factors that essentially influenced the likelihood to die:\n",
    "- Class = 'Third Class'\n",
    "- Sex = 'male'\n",
    "- Ports = Southampton\n",
    "- Group = 1\n",
    "\n",
    "\n",
    "### - How life passenger depends on the price of the bought ticket?\n",
    "\n",
    "We got a positive correlation between survival and the ticket price. But we can not argue that the increase in the ticket price leads to an increase in the probability of survival."
   ]
  }
 ],
 "metadata": {
  "anaconda-cloud": {},
  "kernelspec": {
   "display_name": "Python [conda root]",
   "language": "python",
   "name": "conda-root-py"
  },
  "language_info": {
   "codemirror_mode": {
    "name": "ipython",
    "version": 3
   },
   "file_extension": ".py",
   "mimetype": "text/x-python",
   "name": "python",
   "nbconvert_exporter": "python",
   "pygments_lexer": "ipython3",
   "version": "3.5.2"
  }
 },
 "nbformat": 4,
 "nbformat_minor": 0
}
